{
 "cells": [
  {
   "cell_type": "code",
   "execution_count": 27,
   "metadata": {},
   "outputs": [],
   "source": [
    "import pandas as pd \n",
    "import numpy as np\n",
    "import matplotlib.pyplot as plt\n",
    "from sklearn.metrics import plot_roc_curve\n",
    "\n",
    "import nltk\n",
    "from nltk.tokenize import word_tokenize, sent_tokenize\n",
    "from nltk.corpus import stopwords\n",
    "from nltk.stem.porter import PorterStemmer\n",
    "from nltk.stem.snowball import SnowballStemmer\n",
    "from nltk.stem.wordnet import WordNetLemmatizer\n",
    "from sklearn.feature_extraction.text import CountVectorizer, TfidfVectorizer\n",
    "from sklearn.metrics.pairwise import linear_kernel\n",
    "from sklearn.decomposition import NMF, PCA\n",
    "\n",
    "from sklearn.model_selection import train_test_split\n",
    "from sklearn.model_selection import StratifiedKFold\n",
    "from sklearn.model_selection import cross_val_score\n",
    "from sklearn.metrics import confusion_matrix, precision_score, recall_score\n",
    "\n",
    "from sklearn.ensemble import RandomForestRegressor, RandomForestClassifier\n",
    "from sklearn.metrics import r2_score\n",
    "from sklearn.cluster import DBSCAN\n",
    "from sklearn.linear_model import LogisticRegression\n",
    "from sklearn.tree import DecisionTreeClassifier\n",
    "from sklearn.naive_bayes import MultinomialNB\n",
    "\n",
    "from sklearn import (\n",
    "    cluster, decomposition, ensemble, manifold, \n",
    "    random_projection, preprocessing)\n",
    "from sklearn.utils.class_weight import compute_class_weight\n",
    "\n",
    "\n",
    "import os\n",
    "import numpy as np\n",
    "import pandas as pd\n",
    "from sklearn.feature_extraction.text import TfidfVectorizer\n",
    "from sklearn.cluster import KMeans\n",
    "from collections import Counter\n",
    "from scipy.spatial.distance import pdist, squareform\n",
    "import matplotlib.pyplot as plt\n",
    "from scipy.cluster.hierarchy import linkage, dendrogram\n",
    "from sklearn.cluster import DBSCAN\n",
    "\n",
    "import itertools\n",
    "import scipy.stats as scs\n",
    "from scipy.spatial.distance import pdist, squareform\n",
    "from sklearn.cluster import KMeans, AgglomerativeClustering\n",
    "from sklearn.metrics import silhouette_score, silhouette_samples\n",
    "import matplotlib.cm as cm\n",
    "from IPython.display import HTML, display"
   ]
  },
  {
   "cell_type": "code",
   "execution_count": null,
   "metadata": {},
   "outputs": [],
   "source": []
  },
  {
   "cell_type": "code",
   "execution_count": 3,
   "metadata": {},
   "outputs": [],
   "source": [
    "df = pd.read_csv('../../sample_df.csv')"
   ]
  },
  {
   "cell_type": "code",
   "execution_count": 4,
   "metadata": {},
   "outputs": [],
   "source": [
    "X = df.text.values\n",
    "y = df.likes.values"
   ]
  },
  {
   "cell_type": "code",
   "execution_count": 5,
   "metadata": {},
   "outputs": [],
   "source": [
    "vectorizer = TfidfVectorizer(max_features=1000, stop_words='english', analyzer='word', strip_accents='ascii', sublinear_tf = True)\n",
    "vect = vectorizer.fit_transform(X)"
   ]
  },
  {
   "cell_type": "code",
   "execution_count": 6,
   "metadata": {},
   "outputs": [
    {
     "data": {
      "text/plain": [
       "array(['000', '10', '100', '11', '12', '15', '20', '2015', '2016', '2017',\n",
       "       '25', '30', '40', '50', '60', 'ability', 'able', 'abortion',\n",
       "       'absolutely', 'abuse', 'accept', 'access', 'according', 'account',\n",
       "       'act', 'action', 'actions', 'actual', 'actually', 'add', 'address',\n",
       "       'administration', 'afford', 'age', 'agenda', 'ago', 'agree', 'air',\n",
       "       'alaska', 'alaskans', 'alberta', 'allow', 'allowed', 'amendment',\n",
       "       'america', 'american', 'americans', 'anchorage', 'answer', 'anti',\n",
       "       'anymore', 'apparently', 'appears', 'area', 'areas', 'aren',\n",
       "       'argument', 'article', 'articles', 'ask', 'asked', 'asking',\n",
       "       'assault', 'assume', 'attack', 'attacks', 'attempt', 'attention',\n",
       "       'author', 'available', 'average', 'avoid', 'away', 'bad', 'ban',\n",
       "       'bank', 'base', 'based', 'basis', 'bc', 'behavior', 'believe',\n",
       "       'benefit', 'benefits', 'best', 'bet', 'better', 'big', 'biggest',\n",
       "       'billion', 'bishops', 'bit', 'black', 'blame', 'board', 'body',\n",
       "       'book', 'border', 'born', 'bought', 'boy', 'break', 'bring',\n",
       "       'brought', 'budget', 'build', 'building', 'built', 'bunch', 'bush',\n",
       "       'business', 'businesses', 'buy', 'buying', 'called', 'calling',\n",
       "       'came', 'campaign', 'canada', 'canadian', 'canadians', 'candidate',\n",
       "       'candidates', 'capital', 'car', 'carbon', 'care', 'cars', 'case',\n",
       "       'cases', 'cash', 'catholic', 'cause', 'caused', 'century',\n",
       "       'certain', 'certainly', 'chance', 'change', 'changed', 'changes',\n",
       "       'charge', 'check', 'chief', 'child', 'children', 'china',\n",
       "       'chinese', 'choice', 'choose', 'christian', 'church', 'cities',\n",
       "       'citizen', 'citizens', 'city', 'civil', 'claim', 'claims', 'class',\n",
       "       'clean', 'clear', 'clearly', 'climate', 'clinton', 'close',\n",
       "       'college', 'com', 'come', 'comes', 'coming', 'comment', 'comments',\n",
       "       'common', 'community', 'companies', 'company', 'complete',\n",
       "       'completely', 'concerned', 'congress', 'conservative',\n",
       "       'conservatives', 'consider', 'considered', 'constitution',\n",
       "       'continue', 'control', 'corporate', 'corporations', 'correct',\n",
       "       'corrupt', 'cost', 'costs', 'couldn', 'council', 'countries',\n",
       "       'country', 'county', 'couple', 'course', 'court', 'cover',\n",
       "       'coverage', 'create', 'created', 'credit', 'crime', 'crimes',\n",
       "       'criminal', 'culture', 'current', 'currently', 'cut', 'daily',\n",
       "       'damage', 'dangerous', 'data', 'day', 'days', 'dead', 'deal',\n",
       "       'death', 'debate', 'debt', 'decades', 'decide', 'decided',\n",
       "       'decision', 'decisions', 'deep', 'defense', 'demand', 'democracy',\n",
       "       'democrat', 'democratic', 'democrats', 'denver', 'department',\n",
       "       'despite', 'development', 'did', 'didn', 'die', 'difference',\n",
       "       'different', 'difficult', 'disagree', 'discussion', 'does',\n",
       "       'doesn', 'dog', 'doing', 'dollar', 'dollars', 'don', 'donald',\n",
       "       'dont', 'doubt', 'drive', 'driving', 'drug', 'drugs', 'early',\n",
       "       'earth', 'easily', 'east', 'easy', 'economic', 'economy',\n",
       "       'education', 'effect', 'effort', 'elected', 'election',\n",
       "       'elections', 'employees', 'end', 'energy', 'english', 'enjoy',\n",
       "       'entire', 'environment', 'especially', 'eugene', 'europe', 'event',\n",
       "       'evidence', 'evil', 'exactly', 'example', 'excellent', 'exist',\n",
       "       'expect', 'expensive', 'experience', 'explain', 'face', 'fact',\n",
       "       'facts', 'failed', 'failure', 'fair', 'faith', 'fake', 'fall',\n",
       "       'false', 'families', 'family', 'far', 'father', 'fbi', 'fear',\n",
       "       'federal', 'feel', 'fight', 'figure', 'finally', 'financial',\n",
       "       'fine', 'fish', 'fix', 'focus', 'folks', 'follow', 'following',\n",
       "       'food', 'force', 'forced', 'foreign', 'forget', 'form', 'forward',\n",
       "       'francis', 'free', 'freedom', 'friend', 'friends', 'fund',\n",
       "       'funding', 'funds', 'funny', 'future', 'game', 'gas', 'gave',\n",
       "       'gay', 'gender', 'general', 'gets', 'getting', 'given', 'giving',\n",
       "       'glad', 'global', 'globe', 'god', 'goes', 'going', 'gone', 'good',\n",
       "       'gop', 'got', 'gov', 'government', 'governments', 'governor',\n",
       "       'great', 'green', 'ground', 'group', 'groups', 'grow', 'growing',\n",
       "       'growth', 'guess', 'guilty', 'gun', 'guns', 'guy', 'guys', 'half',\n",
       "       'hand', 'hands', 'happen', 'happened', 'happening', 'happens',\n",
       "       'happy', 'hard', 'harper', 'hate', 'haven', 'having', 'hawaii',\n",
       "       'head', 'health', 'healthcare', 'hear', 'heard', 'heart', 'held',\n",
       "       'hell', 'help', 'hey', 'high', 'higher', 'hillary', 'history',\n",
       "       'hit', 'hold', 'home', 'homeless', 'homes', 'honest', 'hope',\n",
       "       'hours', 'house', 'housing', 'http', 'https', 'huge', 'human',\n",
       "       'hundreds', 'hurt', 'idea', 'ideas', 'ignore', 'illegal',\n",
       "       'imagine', 'immigrants', 'immigration', 'impact', 'important',\n",
       "       'include', 'including', 'income', 'increase', 'increased',\n",
       "       'individual', 'individuals', 'industry', 'influence',\n",
       "       'information', 'infrastructure', 'instead', 'insurance',\n",
       "       'intelligence', 'interesting', 'interests', 'international',\n",
       "       'investigation', 'investment', 'involved', 'isn', 'issue',\n",
       "       'issues', 'jail', 'jesus', 'job', 'jobs', 'john', 'judge', 'just',\n",
       "       'justice', 'justin', 'kid', 'kids', 'kill', 'killed', 'killing',\n",
       "       'kind', 'knew', 'know', 'knowledge', 'known', 'knows', 'korea',\n",
       "       'lack', 'land', 'language', 'large', 'late', 'later', 'law',\n",
       "       'laws', 'lead', 'leader', 'leaders', 'leadership', 'learn',\n",
       "       'leave', 'left', 'legal', 'legislation', 'legislature', 'let',\n",
       "       'lets', 'letter', 'level', 'liberal', 'liberals', 'lie', 'lies',\n",
       "       'life', 'light', 'like', 'likely', 'line', 'link', 'list',\n",
       "       'little', 'live', 'lived', 'lives', 'living', 'll', 'local', 'lol',\n",
       "       'long', 'longer', 'look', 'looking', 'looks', 'lose', 'loss',\n",
       "       'lost', 'lot', 'lots', 'love', 'low', 'lower', 'lying', 'major',\n",
       "       'majority', 'make', 'makes', 'making', 'male', 'man', 'management',\n",
       "       'market', 'mass', 'massive', 'matter', 'maybe', 'mayor', 'mean',\n",
       "       'means', 'media', 'medical', 'meet', 'meeting', 'member',\n",
       "       'members', 'men', 'mental', 'mention', 'mess', 'message', 'mexico',\n",
       "       'middle', 'military', 'million', 'millions', 'mind', 'minister',\n",
       "       'money', 'month', 'months', 'moral', 'mother', 'moving', 'mr',\n",
       "       'ms', 'murder', 'muslim', 'muslims', 'nation', 'national',\n",
       "       'nations', 'native', 'natural', 'nature', 'ndp', 'near', 'nearly',\n",
       "       'necessary', 'need', 'needed', 'needs', 'new', 'news', 'nice',\n",
       "       'night', 'non', 'nonsense', 'north', 'note', 'nuclear', 'number',\n",
       "       'numbers', 'obama', 'obamacare', 'obvious', 'obviously', 'offer',\n",
       "       'office', 'officials', 'oh', 'oil', 'ok', 'old', 'ones', 'ontario',\n",
       "       'open', 'opinion', 'opinions', 'opportunity', 'order', 'oregon',\n",
       "       'org', 'original', 'outside', 'owners', 'paid', 'paper', 'parents',\n",
       "       'park', 'parties', 'party', 'pass', 'passed', 'past', 'paul',\n",
       "       'pay', 'paying', 'peace', 'people', 'percent', 'perfect', 'period',\n",
       "       'person', 'personal', 'personally', 'pfd', 'pick', 'piece',\n",
       "       'place', 'places', 'plan', 'play', 'players', 'playing', 'plus',\n",
       "       'pm', 'point', 'points', 'police', 'policies', 'policy',\n",
       "       'political', 'politicians', 'politics', 'poor', 'pope', 'popular',\n",
       "       'population', 'position', 'possible', 'post', 'posts', 'power',\n",
       "       'practice', 'present', 'president', 'press', 'pretty', 'price',\n",
       "       'prices', 'prison', 'private', 'pro', 'probably', 'problem',\n",
       "       'problems', 'process', 'profit', 'program', 'programs',\n",
       "       'progressive', 'project', 'proof', 'property', 'protect',\n",
       "       'protest', 'prove', 'proven', 'provide', 'provided', 'public',\n",
       "       'putin', 'putting', 'quebec', 'question', 'questions', 'quite',\n",
       "       'race', 'racism', 'racist', 'rail', 'raise', 'rate', 'rates',\n",
       "       'read', 'reading', 'real', 'reality', 'realize', 'really',\n",
       "       'reason', 'reasonable', 'reasons', 'recent', 'record', 'red',\n",
       "       'reduce', 'regarding', 'regardless', 'religion', 'religious',\n",
       "       'remember', 'report', 'reporting', 'republican', 'republicans',\n",
       "       'required', 'research', 'residents', 'resources', 'respect',\n",
       "       'response', 'responsibility', 'responsible', 'rest', 'result',\n",
       "       'results', 'return', 'revenue', 'rich', 'ridiculous', 'right',\n",
       "       'rights', 'risk', 'road', 'room', 'rule', 'rules', 'run',\n",
       "       'running', 'russia', 'russian', 'russians', 'sad', 'safe',\n",
       "       'safety', 'said', 'sales', 'save', 'saw', 'say', 'saying', 'says',\n",
       "       'school', 'schools', 'science', 'season', 'second', 'sector',\n",
       "       'security', 'seeing', 'seen', 'self', 'sell', 'senate', 'send',\n",
       "       'sense', 'seriously', 'service', 'services', 'set', 'sex',\n",
       "       'sexual', 'shame', 'share', 'short', 'shot', 'shouldn', 'shows',\n",
       "       'shut', 'sick', 'sign', 'similar', 'simple', 'simply', 'single',\n",
       "       'site', 'situation', 'small', 'smart', 'social', 'society', 'sold',\n",
       "       'solution', 'son', 'soon', 'sorry', 'sort', 'sound', 'sounds',\n",
       "       'source', 'south', 'space', 'speak', 'speaking', 'special',\n",
       "       'speech', 'spend', 'spending', 'spent', 'staff', 'stand',\n",
       "       'standard', 'start', 'started', 'starting', 'state', 'stated',\n",
       "       'statement', 'states', 'status', 'stay', 'step', 'stop', 'stories',\n",
       "       'story', 'street', 'strong', 'students', 'study', 'stuff',\n",
       "       'stupid', 'subject', 'suggest', 'support', 'supporters',\n",
       "       'supporting', 'supposed', 'supreme', 'sure', 'surprised',\n",
       "       'suspect', 'taken', 'takes', 'taking', 'talk', 'talking', 'tax',\n",
       "       'taxes', 'taxpayers', 'teachers', 'teaching', 'team', 'tell',\n",
       "       'telling', 'term', 'terms', 'terrorist', 'thank', 'thanks',\n",
       "       'thing', 'things', 'think', 'thinking', 'thinks', 'thought',\n",
       "       'thousands', 'threat', 'time', 'times', 'today', 'told', 'took',\n",
       "       'toronto', 'total', 'totally', 'town', 'trade', 'traffic',\n",
       "       'travel', 'treatment', 'tried', 'trudeau', 'true', 'truly',\n",
       "       'trump', 'trumps', 'trust', 'truth', 'try', 'trying', 'turn',\n",
       "       'turned', 'tv', 'type', 'understand', 'understanding',\n",
       "       'unfortunately', 'union', 'united', 'university', 'unless', 'usa',\n",
       "       'use', 'used', 'using', 'usual', 'usually', 'value', 'values',\n",
       "       'vancouver', 've', 'victim', 'victims', 'view', 'views',\n",
       "       'violence', 'vote', 'voted', 'voters', 'votes', 'voting', 'wage',\n",
       "       'wait', 'waiting', 'walk', 'wall', 'want', 'wanted', 'wants',\n",
       "       'war', 'washington', 'wasn', 'waste', 'watch', 'water', 'way',\n",
       "       'ways', 'wealth', 'weapons', 'week', 'welfare', 'went', 'west',\n",
       "       'western', 'white', 'wife', 'willing', 'win', 'wing', 'wish',\n",
       "       'woman', 'women', 'won', 'wonder', 'word', 'words', 'work',\n",
       "       'worked', 'workers', 'working', 'works', 'world', 'worse', 'worst',\n",
       "       'worth', 'wouldn', 'wow', 'write', 'writing', 'written', 'wrong',\n",
       "       'wrote', 'www', 'yeah', 'year', 'years', 'yes', 'young', 'zero'],\n",
       "      dtype='<U14')"
      ]
     },
     "execution_count": 6,
     "metadata": {},
     "output_type": "execute_result"
    }
   ],
   "source": [
    "features = vectorizer.get_feature_names()\n",
    "np.unique(features)"
   ]
  },
  {
   "cell_type": "markdown",
   "metadata": {},
   "source": [
    "# REDUCE DIMENSIONS"
   ]
  },
  {
   "cell_type": "code",
   "execution_count": 7,
   "metadata": {},
   "outputs": [],
   "source": [
    "from sklearn.decomposition import TruncatedSVD\n",
    "from scipy import sparse as sp\n"
   ]
  },
  {
   "cell_type": "code",
   "execution_count": 8,
   "metadata": {},
   "outputs": [
    {
     "data": {
      "text/plain": [
       "Text(0.5, 1.0, 'Scree Plot')"
      ]
     },
     "execution_count": 8,
     "metadata": {},
     "output_type": "execute_result"
    },
    {
     "data": {
      "image/png": "[encoded data removed]",
      "text/plain": [
       "<Figure size 1080x576 with 2 Axes>"
      ]
     },
     "metadata": {
      "needs_background": "light"
     },
     "output_type": "display_data"
    }
   ],
   "source": [
    "clf = TruncatedSVD(500)\n",
    "Xpca = clf.fit_transform(vect)\n",
    "\n",
    "\n",
    "fig,axs = plt.subplots(1,2, figsize=(15,8))\n",
    "cut_off = 0.9\n",
    "axs[0].plot(clf.explained_variance_ratio_)\n",
    "axs[1].plot(np.cumsum(clf.explained_variance_ratio_))\n",
    "axs[1].axhline(cut_off, 0, 100, linestyle = '--')\n",
    "axs[0].set_xlabel('Principal Component')\n",
    "axs[0].set_ylabel('Explained Variance')\n",
    "axs[1].set_xlabel('Principal Component')\n",
    "axs[1].set_ylabel('Cum. Explained Variance')\n",
    "axs[0].set_title('Scree Plot')\n",
    "# axs[1].set_title(f'Cum. Variance(<=0.9): {np.min(np.where(np.cumsum(clf.explained_variance_ratio_)>=cut_off))}')\n",
    "# plt.savefig(\"pca_scree.png\")"
   ]
  },
  {
   "cell_type": "markdown",
   "metadata": {},
   "source": [
    "### Elbow is around 100"
   ]
  },
  {
   "cell_type": "code",
   "execution_count": 10,
   "metadata": {},
   "outputs": [
    {
     "data": {
      "text/plain": [
       "0.26405459992304625"
      ]
     },
     "execution_count": 10,
     "metadata": {},
     "output_type": "execute_result"
    }
   ],
   "source": [
    "clf = TruncatedSVD(100)\n",
    "Xpca = clf.fit_transform(vect)\n",
    "clf.explained_variance_ratio_.sum()"
   ]
  },
  {
   "cell_type": "code",
   "execution_count": 11,
   "metadata": {},
   "outputs": [
    {
     "data": {
      "text/plain": [
       "KMeans(n_clusters=2)"
      ]
     },
     "execution_count": 11,
     "metadata": {},
     "output_type": "execute_result"
    }
   ],
   "source": [
    "kmeans = KMeans(n_clusters = 2)\n",
    "kmeans.fit(Xpca)"
   ]
  },
  {
   "cell_type": "code",
   "execution_count": 13,
   "metadata": {},
   "outputs": [],
   "source": [
    "assigned_cluster = kmeans.transform(Xpca).argmin(axis=1)"
   ]
  },
  {
   "cell_type": "code",
   "execution_count": 15,
   "metadata": {},
   "outputs": [],
   "source": [
    "# for i in range(kmeans.n_clusters):\n",
    "#     cluster = np.arange(0, Xpca.shape[0])[assigned_cluster==i]\n",
    "#     topics = df.loc[cluster]['text']\n",
    "#     most_common = Counter(topics).most_common()\n",
    "#     print(f\"Cluster {i}:\")\n",
    "    \n",
    "#     for j in range (len(most_common)):\n",
    "#         print(f\"     {most_common[j][0]} ({most_common[j][1]})\")\n"
   ]
  },
  {
   "cell_type": "code",
   "execution_count": 16,
   "metadata": {},
   "outputs": [
    {
     "data": {
      "text/plain": [
       "2"
      ]
     },
     "execution_count": 16,
     "metadata": {},
     "output_type": "execute_result"
    }
   ],
   "source": [
    "kmeans.n_clusters"
   ]
  },
  {
   "cell_type": "code",
   "execution_count": 25,
   "metadata": {},
   "outputs": [
    {
     "data": {
      "text/plain": [
       "<matplotlib.collections.PathCollection at 0x7f46d2723e50>"
      ]
     },
     "execution_count": 25,
     "metadata": {},
     "output_type": "execute_result"
    },
    {
     "data": {
      "image/png": "[encoded data removed]",
      "text/plain": [
       "<Figure size 432x432 with 1 Axes>"
      ]
     },
     "metadata": {
      "needs_background": "light"
     },
     "output_type": "display_data"
    }
   ],
   "source": [
    "fig, ax = plt.subplots(figsize=(6, 6))\n",
    "ax.axis('off')\n",
    "ax.axis('equal')\n",
    "ax.scatter(Xpca[:,1], Xpca[:,0], linewidths=0, color='k')\n",
    "\n",
    "\n"
   ]
  },
  {
   "cell_type": "code",
   "execution_count": 35,
   "metadata": {},
   "outputs": [
    {
     "data": {
      "image/png": "[encoded data removed]",
      "text/plain": [
       "<Figure size 432x432 with 1 Axes>"
      ]
     },
     "metadata": {
      "needs_background": "light"
     },
     "output_type": "display_data"
    }
   ],
   "source": [
    "km = KMeans(3)\n",
    "y = km.fit_predict(Xpca)\n",
    "\n",
    "\n",
    "fig, ax = plt.subplots(figsize=(6,6))\n",
    "\n",
    "ax.axis('off')\n",
    "ax.axis('equal')\n",
    "ax.scatter(Xpca[:,0], Xpca[:,1], c=y, linewidths=0)\n",
    "plt.show()"
   ]
  },
  {
   "cell_type": "code",
   "execution_count": null,
   "metadata": {},
   "outputs": [],
   "source": []
  },
  {
   "cell_type": "code",
   "execution_count": 39,
   "metadata": {},
   "outputs": [
    {
     "ename": "KeyboardInterrupt",
     "evalue": "",
     "output_type": "error",
     "traceback": [
      "\u001b[0;31m---------------------------------------------------------------------------\u001b[0m",
      "\u001b[0;31mKeyboardInterrupt\u001b[0m                         Traceback (most recent call last)",
      "\u001b[0;32m<ipython-input-39-0009988b5063>\u001b[0m in \u001b[0;36m<module>\u001b[0;34m\u001b[0m\n\u001b[1;32m     16\u001b[0m     \u001b[0;32mfor\u001b[0m \u001b[0mc\u001b[0m \u001b[0;32min\u001b[0m \u001b[0mrange\u001b[0m\u001b[0;34m(\u001b[0m\u001b[0;36m0\u001b[0m\u001b[0;34m,\u001b[0m \u001b[0mk\u001b[0m\u001b[0;34m)\u001b[0m\u001b[0;34m:\u001b[0m\u001b[0;34m\u001b[0m\u001b[0;34m\u001b[0m\u001b[0m\n\u001b[1;32m     17\u001b[0m         \u001b[0;32mfor\u001b[0m \u001b[0mi1\u001b[0m\u001b[0;34m,\u001b[0m \u001b[0mi2\u001b[0m \u001b[0;32min\u001b[0m \u001b[0mitertools\u001b[0m\u001b[0;34m.\u001b[0m\u001b[0mcombinations\u001b[0m\u001b[0;34m(\u001b[0m\u001b[0;34m[\u001b[0m \u001b[0mi\u001b[0m \u001b[0;32mfor\u001b[0m \u001b[0mi\u001b[0m \u001b[0;32min\u001b[0m \u001b[0mrange\u001b[0m\u001b[0;34m(\u001b[0m\u001b[0mlen\u001b[0m\u001b[0;34m(\u001b[0m\u001b[0my\u001b[0m\u001b[0;34m)\u001b[0m\u001b[0;34m)\u001b[0m \u001b[0;32mif\u001b[0m \u001b[0my\u001b[0m\u001b[0;34m[\u001b[0m\u001b[0mi\u001b[0m\u001b[0;34m]\u001b[0m \u001b[0;34m==\u001b[0m \u001b[0mc\u001b[0m \u001b[0;34m]\u001b[0m\u001b[0;34m,\u001b[0m \u001b[0;36m2\u001b[0m\u001b[0;34m)\u001b[0m\u001b[0;34m:\u001b[0m\u001b[0;34m\u001b[0m\u001b[0;34m\u001b[0m\u001b[0m\n\u001b[0;32m---> 18\u001b[0;31m             \u001b[0mwcss\u001b[0m\u001b[0;34m[\u001b[0m\u001b[0mk\u001b[0m\u001b[0;34m]\u001b[0m \u001b[0;34m+=\u001b[0m \u001b[0msum\u001b[0m\u001b[0;34m(\u001b[0m\u001b[0mXpca\u001b[0m\u001b[0;34m[\u001b[0m\u001b[0mi1\u001b[0m\u001b[0;34m]\u001b[0m \u001b[0;34m-\u001b[0m \u001b[0mXpca\u001b[0m\u001b[0;34m[\u001b[0m\u001b[0mi2\u001b[0m\u001b[0;34m]\u001b[0m\u001b[0;34m)\u001b[0m\u001b[0;34m**\u001b[0m\u001b[0;36m2\u001b[0m\u001b[0;34m\u001b[0m\u001b[0;34m\u001b[0m\u001b[0m\n\u001b[0m\u001b[1;32m     19\u001b[0m     \u001b[0mwcss\u001b[0m\u001b[0;34m[\u001b[0m\u001b[0mk\u001b[0m\u001b[0;34m]\u001b[0m \u001b[0;34m/=\u001b[0m \u001b[0;36m2\u001b[0m\u001b[0;34m\u001b[0m\u001b[0;34m\u001b[0m\u001b[0m\n\u001b[1;32m     20\u001b[0m \u001b[0;34m\u001b[0m\u001b[0m\n",
      "\u001b[0;31mKeyboardInterrupt\u001b[0m: "
     ]
    }
   ],
   "source": [
    "maxk = 3\n",
    "wcss = np.zeros(maxk)\n",
    "silhouette = np.zeros(maxk)\n",
    "\n",
    "# fig, axes = plt.subplots(3, 4, figsize=(16,9))\n",
    "\n",
    "# # flatten\n",
    "# axes = [ax for axrow in axes for ax in axrow]\n",
    "\n",
    "for k in range(1,maxk):\n",
    "    km = KMeans(k)\n",
    "    y = km.fit_predict(Xpca)\n",
    "#     ax.axis('off')\n",
    "#     ax.scatter(Xpca[:,0], Xpca[:,1], c=y, linewidths=0, s=10    \n",
    "    \n",
    "    for c in range(0, k):\n",
    "        for i1, i2 in itertools.combinations([ i for i in range(len(y)) if y[i] == c ], 2):\n",
    "            wcss[k] += sum(Xpca[i1] - Xpca[i2])**2\n",
    "    wcss[k] /= 2\n",
    "    \n",
    "    if k > 1:\n",
    "        silhouette[k] = silhouette_score(x,y)"
   ]
  },
  {
   "cell_type": "code",
   "execution_count": 37,
   "metadata": {},
   "outputs": [
    {
     "data": {
      "text/plain": [
       "Text(0, 0.5, 'within-cluster sum of squares')"
      ]
     },
     "execution_count": 37,
     "metadata": {},
     "output_type": "execute_result"
    },
    {
     "data": {
      "image/png": "[encoded data removed]",
      "text/plain": [
       "<Figure size 432x288 with 1 Axes>"
      ]
     },
     "metadata": {
      "needs_background": "light"
     },
     "output_type": "display_data"
    }
   ],
   "source": [
    "fig, ax = plt.subplots()\n",
    "ax.plot(range(3,maxk), wcss[3:maxk], 'o-')\n",
    "ax.set_xlabel(\"number of clusters\")\n",
    "ax.set_ylabel(\"within-cluster sum of squares\")\n"
   ]
  },
  {
   "cell_type": "code",
   "execution_count": null,
   "metadata": {},
   "outputs": [],
   "source": [
    "fig, ax = plt.subplots()\n",
    "ax.plot(range(2,maxk), silhouette[2:maxk], 'o-')\n",
    "ax.set_xlabel(\"number of clusters\")\n",
    "ax.set_ylabel(\"silhouette score\")\n",
    "\n"
   ]
  },
  {
   "cell_type": "code",
   "execution_count": null,
   "metadata": {},
   "outputs": [],
   "source": []
  },
  {
   "cell_type": "code",
   "execution_count": null,
   "metadata": {},
   "outputs": [],
   "source": []
  },
  {
   "cell_type": "code",
   "execution_count": null,
   "metadata": {},
   "outputs": [],
   "source": []
  },
  {
   "cell_type": "code",
   "execution_count": 7,
   "metadata": {},
   "outputs": [],
   "source": []
  },
  {
   "cell_type": "code",
   "execution_count": 8,
   "metadata": {},
   "outputs": [],
   "source": []
  },
  {
   "cell_type": "code",
   "execution_count": null,
   "metadata": {},
   "outputs": [],
   "source": [
    "dbs = DBSCAN(eps = 1.5, min_samples= 2, n_jobs = -1)\n",
    "dbs.fit(Xpca)\n"
   ]
  },
  {
   "cell_type": "code",
   "execution_count": null,
   "metadata": {},
   "outputs": [],
   "source": []
  },
  {
   "cell_type": "code",
   "execution_count": null,
   "metadata": {},
   "outputs": [],
   "source": []
  },
  {
   "cell_type": "code",
   "execution_count": null,
   "metadata": {},
   "outputs": [],
   "source": []
  },
  {
   "cell_type": "code",
   "execution_count": 14,
   "metadata": {},
   "outputs": [],
   "source": []
  },
  {
   "cell_type": "code",
   "execution_count": 32,
   "metadata": {},
   "outputs": [],
   "source": []
  },
  {
   "cell_type": "code",
   "execution_count": null,
   "metadata": {},
   "outputs": [],
   "source": []
  },
  {
   "cell_type": "code",
   "execution_count": null,
   "metadata": {},
   "outputs": [],
   "source": []
  },
  {
   "cell_type": "code",
   "execution_count": null,
   "metadata": {},
   "outputs": [],
   "source": []
  },
  {
   "cell_type": "code",
   "execution_count": null,
   "metadata": {},
   "outputs": [],
   "source": []
  },
  {
   "cell_type": "code",
   "execution_count": null,
   "metadata": {},
   "outputs": [],
   "source": []
  }
 ],
 "metadata": {
  "kernelspec": {
   "display_name": "Python 3",
   "language": "python",
   "name": "python3"
  },
  "language_info": {
   "codemirror_mode": {
    "name": "ipython",
    "version": 3
   },
   "file_extension": ".py",
   "mimetype": "text/x-python",
   "name": "python",
   "nbconvert_exporter": "python",
   "pygments_lexer": "ipython3",
   "version": "3.7.6"
  }
 },
 "nbformat": 4,
 "nbformat_minor": 4
}
