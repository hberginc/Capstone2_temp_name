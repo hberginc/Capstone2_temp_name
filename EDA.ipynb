{
 "cells": [
  {
   "cell_type": "code",
   "execution_count": 1,
   "metadata": {},
   "outputs": [],
   "source": [
    "import zipfile\n",
    "import pandas as pd\n",
    "import matplotlib.pyplot as plt\n",
    "import numpy as np"
   ]
  },
  {
   "cell_type": "code",
   "execution_count": 166,
   "metadata": {},
   "outputs": [],
   "source": [
    "# df1 = pd.read_json('bucket1.json', lines = True)"
   ]
  },
  {
   "cell_type": "code",
   "execution_count": 167,
   "metadata": {},
   "outputs": [],
   "source": [
    "# df2 = pd.read_json('bucket2.json', lines = True)"
   ]
  },
  {
   "cell_type": "code",
   "execution_count": 168,
   "metadata": {},
   "outputs": [],
   "source": [
    "# df3 = pd.read_json('bucket3.json', lines = True)"
   ]
  },
  {
   "cell_type": "code",
   "execution_count": 169,
   "metadata": {},
   "outputs": [],
   "source": [
    "# df1 = pd.read_json('bucket1.json', lines = True)\n",
    "# df2 = pd.read_json('bucket2.json', lines = True)\n",
    "# df3 = pd.read_json('bucket3.json', lines = True)\n",
    "# df4 = pd.read_json('bucket4.json', lines = True)\n",
    "# df5 = pd.read_json('bucket5.json', lines = True)"
   ]
  },
  {
   "cell_type": "code",
   "execution_count": 170,
   "metadata": {},
   "outputs": [],
   "source": [
    "# df5 = pd.read_json('bucket5.json', lines = True)"
   ]
  },
  {
   "cell_type": "code",
   "execution_count": 171,
   "metadata": {},
   "outputs": [],
   "source": [
    "# frames = [df1a, df2a, df3a]\n",
    "\n",
    "# result = pd.concat(frames)"
   ]
  },
  {
   "cell_type": "code",
   "execution_count": 172,
   "metadata": {},
   "outputs": [],
   "source": [
    "# f = df1.copy()\n",
    "# s = df2.copy()\n",
    "# t = df3.copy()\n",
    "# fo = df4.copy()\n",
    "# fi = df5.copy()\n",
    "\n",
    "# cols = [f,s,t,fo,fi]\n",
    "\n",
    "# comments_df = pd.concat(cols)"
   ]
  },
  {
   "cell_type": "code",
   "execution_count": 2,
   "metadata": {},
   "outputs": [],
   "source": [
    "comments_df = pd.read_csv('/home/heather/galvanize/Capstone2/cleaned_comments.csv')"
   ]
  },
  {
   "cell_type": "code",
   "execution_count": null,
   "metadata": {},
   "outputs": [],
   "source": [
    "# delete any line that doesnt have a label...something that no one has commented on\n",
    "# or ID types of comments that no one engages with\n",
    "# divide the data up into four separate datasets....one dataset where each article has at least one...then make a multilabel predictor\n",
    "# cluster the information that people find funny and like...funny and sad...wow and sad\n",
    "# refression or classification? how many likes or is it likely to get any likes at all"
   ]
  },
  {
   "cell_type": "code",
   "execution_count": 7,
   "metadata": {},
   "outputs": [],
   "source": [
    "#drop all values that have no funny,wow,sad...\n",
    "# sentiment_array = comments_df[['funny', 'wow', 'sad', 'disagree', 'likes']]\n",
    "# cleaned_df = comments_df.loc[~(sentiment_array==0).all(axis=1)].reset_index()"
   ]
  },
  {
   "cell_type": "code",
   "execution_count": 45,
   "metadata": {},
   "outputs": [],
   "source": [
    "# new_s_df = cleaned_df[['funny', 'wow', 'sad', 'disagree', 'likes']]\n",
    "\n",
    "# idx_non_zero = []\n",
    "# for i in new_s_df[:10].values:\n",
    "#     if sum(i) != 0:\n",
    "#         idx_non_zero.append(i)\n"
   ]
  },
  {
   "cell_type": "code",
   "execution_count": 10,
   "metadata": {},
   "outputs": [],
   "source": [
    "comments_df.drop(['Unnamed: 0'], axis = 1, inplace = True)"
   ]
  },
  {
   "cell_type": "code",
   "execution_count": 11,
   "metadata": {},
   "outputs": [
    {
     "data": {
      "text/html": [
       "<div>\n",
       "<style scoped>\n",
       "    .dataframe tbody tr th:only-of-type {\n",
       "        vertical-align: middle;\n",
       "    }\n",
       "\n",
       "    .dataframe tbody tr th {\n",
       "        vertical-align: top;\n",
       "    }\n",
       "\n",
       "    .dataframe thead th {\n",
       "        text-align: right;\n",
       "    }\n",
       "</style>\n",
       "<table border=\"1\" class=\"dataframe\">\n",
       "  <thead>\n",
       "    <tr style=\"text-align: right;\">\n",
       "      <th></th>\n",
       "      <th>funny</th>\n",
       "      <th>wow</th>\n",
       "      <th>text</th>\n",
       "      <th>publication_id</th>\n",
       "      <th>rating</th>\n",
       "      <th>article_id</th>\n",
       "      <th>id</th>\n",
       "      <th>sad</th>\n",
       "      <th>created_at</th>\n",
       "      <th>disagree</th>\n",
       "      <th>likes</th>\n",
       "      <th>parent_id</th>\n",
       "    </tr>\n",
       "  </thead>\n",
       "  <tbody>\n",
       "    <tr>\n",
       "      <th>0</th>\n",
       "      <td>0</td>\n",
       "      <td>0</td>\n",
       "      <td>haha you guys are a bunch of losers.</td>\n",
       "      <td>2</td>\n",
       "      <td>rejected</td>\n",
       "      <td>2006</td>\n",
       "      <td>59856</td>\n",
       "      <td>0</td>\n",
       "      <td>2015-09-29 10:50:48.488476+00:00</td>\n",
       "      <td>0</td>\n",
       "      <td>1</td>\n",
       "      <td>NaN</td>\n",
       "    </tr>\n",
       "    <tr>\n",
       "      <th>1</th>\n",
       "      <td>0</td>\n",
       "      <td>0</td>\n",
       "      <td>The best ever, beats any store!!!!!</td>\n",
       "      <td>6</td>\n",
       "      <td>approved</td>\n",
       "      <td>8384</td>\n",
       "      <td>382490</td>\n",
       "      <td>0</td>\n",
       "      <td>2016-07-10 22:38:03.752194+00:00</td>\n",
       "      <td>0</td>\n",
       "      <td>1</td>\n",
       "      <td>NaN</td>\n",
       "    </tr>\n",
       "    <tr>\n",
       "      <th>2</th>\n",
       "      <td>0</td>\n",
       "      <td>0</td>\n",
       "      <td>I misread the post and thought you advocated p...</td>\n",
       "      <td>6</td>\n",
       "      <td>approved</td>\n",
       "      <td>24149</td>\n",
       "      <td>372518</td>\n",
       "      <td>0</td>\n",
       "      <td>2016-07-02 04:01:47.420529+00:00</td>\n",
       "      <td>0</td>\n",
       "      <td>1</td>\n",
       "      <td>NaN</td>\n",
       "    </tr>\n",
       "    <tr>\n",
       "      <th>3</th>\n",
       "      <td>0</td>\n",
       "      <td>0</td>\n",
       "      <td>The best part is a Canadian would read this an...</td>\n",
       "      <td>6</td>\n",
       "      <td>approved</td>\n",
       "      <td>24149</td>\n",
       "      <td>372801</td>\n",
       "      <td>0</td>\n",
       "      <td>2016-07-02 14:56:08.837415+00:00</td>\n",
       "      <td>0</td>\n",
       "      <td>1</td>\n",
       "      <td>NaN</td>\n",
       "    </tr>\n",
       "    <tr>\n",
       "      <th>4</th>\n",
       "      <td>0</td>\n",
       "      <td>0</td>\n",
       "      <td>You forgot the Palpating of the Poutine Gravy ...</td>\n",
       "      <td>6</td>\n",
       "      <td>approved</td>\n",
       "      <td>24149</td>\n",
       "      <td>372493</td>\n",
       "      <td>0</td>\n",
       "      <td>2016-07-02 03:26:50.607144+00:00</td>\n",
       "      <td>0</td>\n",
       "      <td>1</td>\n",
       "      <td>NaN</td>\n",
       "    </tr>\n",
       "  </tbody>\n",
       "</table>\n",
       "</div>"
      ],
      "text/plain": [
       "   funny  wow                                               text  \\\n",
       "0      0    0               haha you guys are a bunch of losers.   \n",
       "1      0    0                The best ever, beats any store!!!!!   \n",
       "2      0    0  I misread the post and thought you advocated p...   \n",
       "3      0    0  The best part is a Canadian would read this an...   \n",
       "4      0    0  You forgot the Palpating of the Poutine Gravy ...   \n",
       "\n",
       "   publication_id    rating  article_id      id  sad  \\\n",
       "0               2  rejected        2006   59856    0   \n",
       "1               6  approved        8384  382490    0   \n",
       "2               6  approved       24149  372518    0   \n",
       "3               6  approved       24149  372801    0   \n",
       "4               6  approved       24149  372493    0   \n",
       "\n",
       "                         created_at  disagree  likes  parent_id  \n",
       "0  2015-09-29 10:50:48.488476+00:00         0      1        NaN  \n",
       "1  2016-07-10 22:38:03.752194+00:00         0      1        NaN  \n",
       "2  2016-07-02 04:01:47.420529+00:00         0      1        NaN  \n",
       "3  2016-07-02 14:56:08.837415+00:00         0      1        NaN  \n",
       "4  2016-07-02 03:26:50.607144+00:00         0      1        NaN  "
      ]
     },
     "execution_count": 11,
     "metadata": {},
     "output_type": "execute_result"
    }
   ],
   "source": [
    "comments_df.head()"
   ]
  },
  {
   "cell_type": "code",
   "execution_count": 48,
   "metadata": {},
   "outputs": [],
   "source": []
  },
  {
   "cell_type": "code",
   "execution_count": 13,
   "metadata": {},
   "outputs": [
    {
     "data": {
      "text/html": [
       "<div>\n",
       "<style scoped>\n",
       "    .dataframe tbody tr th:only-of-type {\n",
       "        vertical-align: middle;\n",
       "    }\n",
       "\n",
       "    .dataframe tbody tr th {\n",
       "        vertical-align: top;\n",
       "    }\n",
       "\n",
       "    .dataframe thead th {\n",
       "        text-align: right;\n",
       "    }\n",
       "</style>\n",
       "<table border=\"1\" class=\"dataframe\">\n",
       "  <thead>\n",
       "    <tr style=\"text-align: right;\">\n",
       "      <th></th>\n",
       "      <th>funny</th>\n",
       "      <th>wow</th>\n",
       "      <th>text</th>\n",
       "      <th>publication_id</th>\n",
       "      <th>rating</th>\n",
       "      <th>article_id</th>\n",
       "      <th>id</th>\n",
       "      <th>sad</th>\n",
       "      <th>created_at</th>\n",
       "      <th>disagree</th>\n",
       "      <th>likes</th>\n",
       "      <th>parent_id</th>\n",
       "    </tr>\n",
       "  </thead>\n",
       "  <tbody>\n",
       "    <tr>\n",
       "      <th>736029</th>\n",
       "      <td>0</td>\n",
       "      <td>0</td>\n",
       "      <td>NaN</td>\n",
       "      <td>13</td>\n",
       "      <td>approved</td>\n",
       "      <td>141670</td>\n",
       "      <td>392337</td>\n",
       "      <td>0</td>\n",
       "      <td>2016-07-18 19:34:48.278774+00:00</td>\n",
       "      <td>0</td>\n",
       "      <td>1</td>\n",
       "      <td>392165.0</td>\n",
       "    </tr>\n",
       "  </tbody>\n",
       "</table>\n",
       "</div>"
      ],
      "text/plain": [
       "        funny  wow text  publication_id    rating  article_id      id  sad  \\\n",
       "736029      0    0  NaN              13  approved      141670  392337    0   \n",
       "\n",
       "                              created_at  disagree  likes  parent_id  \n",
       "736029  2016-07-18 19:34:48.278774+00:00         0      1   392165.0  "
      ]
     },
     "execution_count": 13,
     "metadata": {},
     "output_type": "execute_result"
    }
   ],
   "source": [
    "comments_df[comments_df.text.isna()]"
   ]
  },
  {
   "cell_type": "code",
   "execution_count": 14,
   "metadata": {},
   "outputs": [],
   "source": [
    "comments_df.drop(index = 736029, axis = 0, inplace = True)"
   ]
  },
  {
   "cell_type": "code",
   "execution_count": 16,
   "metadata": {},
   "outputs": [],
   "source": [
    "ordered = comments_df.sort_values(by='created_at')"
   ]
  },
  {
   "cell_type": "code",
   "execution_count": 33,
   "metadata": {},
   "outputs": [
    {
     "data": {
      "text/plain": [
       "Timestamp('2015-09-29 10:50:48.488476+0000', tz='UTC')"
      ]
     },
     "execution_count": 33,
     "metadata": {},
     "output_type": "execute_result"
    }
   ],
   "source": [
    "pd.to_datetime(ordered.created_at[0])"
   ]
  },
  {
   "cell_type": "code",
   "execution_count": 37,
   "metadata": {},
   "outputs": [
    {
     "data": {
      "text/html": [
       "<div>\n",
       "<style scoped>\n",
       "    .dataframe tbody tr th:only-of-type {\n",
       "        vertical-align: middle;\n",
       "    }\n",
       "\n",
       "    .dataframe tbody tr th {\n",
       "        vertical-align: top;\n",
       "    }\n",
       "\n",
       "    .dataframe thead th {\n",
       "        text-align: right;\n",
       "    }\n",
       "</style>\n",
       "<table border=\"1\" class=\"dataframe\">\n",
       "  <thead>\n",
       "    <tr style=\"text-align: right;\">\n",
       "      <th></th>\n",
       "      <th>funny</th>\n",
       "      <th>wow</th>\n",
       "      <th>text</th>\n",
       "      <th>publication_id</th>\n",
       "      <th>rating</th>\n",
       "      <th>article_id</th>\n",
       "      <th>id</th>\n",
       "      <th>sad</th>\n",
       "      <th>created_at</th>\n",
       "      <th>disagree</th>\n",
       "      <th>likes</th>\n",
       "      <th>parent_id</th>\n",
       "    </tr>\n",
       "  </thead>\n",
       "  <tbody>\n",
       "    <tr>\n",
       "      <th>0</th>\n",
       "      <td>0</td>\n",
       "      <td>0</td>\n",
       "      <td>haha you guys are a bunch of losers.</td>\n",
       "      <td>2</td>\n",
       "      <td>rejected</td>\n",
       "      <td>2006</td>\n",
       "      <td>59856</td>\n",
       "      <td>0</td>\n",
       "      <td>2015-09-29 10:50:48.488476+00:00</td>\n",
       "      <td>0</td>\n",
       "      <td>1</td>\n",
       "      <td>NaN</td>\n",
       "    </tr>\n",
       "    <tr>\n",
       "      <th>1040276</th>\n",
       "      <td>0</td>\n",
       "      <td>0</td>\n",
       "      <td>How can the author claim that Star Wars is bet...</td>\n",
       "      <td>25</td>\n",
       "      <td>approved</td>\n",
       "      <td>141164</td>\n",
       "      <td>383773</td>\n",
       "      <td>0</td>\n",
       "      <td>2015-09-29 16:20:53.059406+00:00</td>\n",
       "      <td>0</td>\n",
       "      <td>1</td>\n",
       "      <td>NaN</td>\n",
       "    </tr>\n",
       "    <tr>\n",
       "      <th>790125</th>\n",
       "      <td>0</td>\n",
       "      <td>0</td>\n",
       "      <td>How can the author claim that Star Wars is bet...</td>\n",
       "      <td>22</td>\n",
       "      <td>approved</td>\n",
       "      <td>59527</td>\n",
       "      <td>282338</td>\n",
       "      <td>0</td>\n",
       "      <td>2015-09-29 16:20:53.059406+00:00</td>\n",
       "      <td>0</td>\n",
       "      <td>1</td>\n",
       "      <td>NaN</td>\n",
       "    </tr>\n",
       "    <tr>\n",
       "      <th>64184</th>\n",
       "      <td>0</td>\n",
       "      <td>0</td>\n",
       "      <td>How can the author claim that Star Wars is bet...</td>\n",
       "      <td>24</td>\n",
       "      <td>approved</td>\n",
       "      <td>138857</td>\n",
       "      <td>351547</td>\n",
       "      <td>0</td>\n",
       "      <td>2015-09-29 16:20:53.059406+00:00</td>\n",
       "      <td>0</td>\n",
       "      <td>1</td>\n",
       "      <td>NaN</td>\n",
       "    </tr>\n",
       "    <tr>\n",
       "      <th>645361</th>\n",
       "      <td>0</td>\n",
       "      <td>0</td>\n",
       "      <td>How can the author claim that Star Wars is bet...</td>\n",
       "      <td>111</td>\n",
       "      <td>approved</td>\n",
       "      <td>32846</td>\n",
       "      <td>240390</td>\n",
       "      <td>0</td>\n",
       "      <td>2015-09-29 16:20:53.059406+00:00</td>\n",
       "      <td>0</td>\n",
       "      <td>1</td>\n",
       "      <td>NaN</td>\n",
       "    </tr>\n",
       "  </tbody>\n",
       "</table>\n",
       "</div>"
      ],
      "text/plain": [
       "         funny  wow                                               text  \\\n",
       "0            0    0               haha you guys are a bunch of losers.   \n",
       "1040276      0    0  How can the author claim that Star Wars is bet...   \n",
       "790125       0    0  How can the author claim that Star Wars is bet...   \n",
       "64184        0    0  How can the author claim that Star Wars is bet...   \n",
       "645361       0    0  How can the author claim that Star Wars is bet...   \n",
       "\n",
       "         publication_id    rating  article_id      id  sad  \\\n",
       "0                     2  rejected        2006   59856    0   \n",
       "1040276              25  approved      141164  383773    0   \n",
       "790125               22  approved       59527  282338    0   \n",
       "64184                24  approved      138857  351547    0   \n",
       "645361              111  approved       32846  240390    0   \n",
       "\n",
       "                               created_at  disagree  likes  parent_id  \n",
       "0        2015-09-29 10:50:48.488476+00:00         0      1        NaN  \n",
       "1040276  2015-09-29 16:20:53.059406+00:00         0      1        NaN  \n",
       "790125   2015-09-29 16:20:53.059406+00:00         0      1        NaN  \n",
       "64184    2015-09-29 16:20:53.059406+00:00         0      1        NaN  \n",
       "645361   2015-09-29 16:20:53.059406+00:00         0      1        NaN  "
      ]
     },
     "execution_count": 37,
     "metadata": {},
     "output_type": "execute_result"
    }
   ],
   "source": [
    "ordered.head()"
   ]
  },
  {
   "cell_type": "code",
   "execution_count": 48,
   "metadata": {
    "collapsed": true
   },
   "outputs": [
    {
     "ename": "KeyboardInterrupt",
     "evalue": "",
     "output_type": "error",
     "traceback": [
      "\u001b[0;31m---------------------------------------------------------------------------\u001b[0m",
      "\u001b[0;31mKeyboardInterrupt\u001b[0m                         Traceback (most recent call last)",
      "\u001b[0;32m<ipython-input-48-1a2ba197631f>\u001b[0m in \u001b[0;36m<module>\u001b[0;34m\u001b[0m\n\u001b[0;32m----> 1\u001b[0;31m \u001b[0mordered\u001b[0m\u001b[0;34m[\u001b[0m\u001b[0;34m'created'\u001b[0m\u001b[0;34m]\u001b[0m \u001b[0;34m=\u001b[0m \u001b[0;34m[\u001b[0m\u001b[0mpd\u001b[0m\u001b[0;34m.\u001b[0m\u001b[0mto_datetime\u001b[0m\u001b[0;34m(\u001b[0m\u001b[0mdt\u001b[0m\u001b[0;34m)\u001b[0m\u001b[0;34m.\u001b[0m\u001b[0mdate\u001b[0m\u001b[0;34m(\u001b[0m\u001b[0;34m)\u001b[0m \u001b[0;32mfor\u001b[0m \u001b[0mdt\u001b[0m \u001b[0;32min\u001b[0m \u001b[0mordered\u001b[0m\u001b[0;34m[\u001b[0m\u001b[0;34m'created_at'\u001b[0m\u001b[0;34m]\u001b[0m\u001b[0;34m]\u001b[0m\u001b[0;34m\u001b[0m\u001b[0;34m\u001b[0m\u001b[0m\n\u001b[0m",
      "\u001b[0;32m<ipython-input-48-1a2ba197631f>\u001b[0m in \u001b[0;36m<listcomp>\u001b[0;34m(.0)\u001b[0m\n\u001b[0;32m----> 1\u001b[0;31m \u001b[0mordered\u001b[0m\u001b[0;34m[\u001b[0m\u001b[0;34m'created'\u001b[0m\u001b[0;34m]\u001b[0m \u001b[0;34m=\u001b[0m \u001b[0;34m[\u001b[0m\u001b[0mpd\u001b[0m\u001b[0;34m.\u001b[0m\u001b[0mto_datetime\u001b[0m\u001b[0;34m(\u001b[0m\u001b[0mdt\u001b[0m\u001b[0;34m)\u001b[0m\u001b[0;34m.\u001b[0m\u001b[0mdate\u001b[0m\u001b[0;34m(\u001b[0m\u001b[0;34m)\u001b[0m \u001b[0;32mfor\u001b[0m \u001b[0mdt\u001b[0m \u001b[0;32min\u001b[0m \u001b[0mordered\u001b[0m\u001b[0;34m[\u001b[0m\u001b[0;34m'created_at'\u001b[0m\u001b[0;34m]\u001b[0m\u001b[0;34m]\u001b[0m\u001b[0;34m\u001b[0m\u001b[0;34m\u001b[0m\u001b[0m\n\u001b[0m",
      "\u001b[0;32m~/anaconda3/lib/python3.7/site-packages/pandas/core/tools/datetimes.py\u001b[0m in \u001b[0;36mto_datetime\u001b[0;34m(arg, errors, dayfirst, yearfirst, utc, format, exact, unit, infer_datetime_format, origin, cache)\u001b[0m\n\u001b[1;32m    754\u001b[0m             \u001b[0mresult\u001b[0m \u001b[0;34m=\u001b[0m \u001b[0mconvert_listlike\u001b[0m\u001b[0;34m(\u001b[0m\u001b[0marg\u001b[0m\u001b[0;34m,\u001b[0m \u001b[0mformat\u001b[0m\u001b[0;34m)\u001b[0m\u001b[0;34m\u001b[0m\u001b[0;34m\u001b[0m\u001b[0m\n\u001b[1;32m    755\u001b[0m     \u001b[0;32melse\u001b[0m\u001b[0;34m:\u001b[0m\u001b[0;34m\u001b[0m\u001b[0;34m\u001b[0m\u001b[0m\n\u001b[0;32m--> 756\u001b[0;31m         \u001b[0mresult\u001b[0m \u001b[0;34m=\u001b[0m \u001b[0mconvert_listlike\u001b[0m\u001b[0;34m(\u001b[0m\u001b[0mnp\u001b[0m\u001b[0;34m.\u001b[0m\u001b[0marray\u001b[0m\u001b[0;34m(\u001b[0m\u001b[0;34m[\u001b[0m\u001b[0marg\u001b[0m\u001b[0;34m]\u001b[0m\u001b[0;34m)\u001b[0m\u001b[0;34m,\u001b[0m \u001b[0mformat\u001b[0m\u001b[0;34m)\u001b[0m\u001b[0;34m[\u001b[0m\u001b[0;36m0\u001b[0m\u001b[0;34m]\u001b[0m\u001b[0;34m\u001b[0m\u001b[0;34m\u001b[0m\u001b[0m\n\u001b[0m\u001b[1;32m    757\u001b[0m \u001b[0;34m\u001b[0m\u001b[0m\n\u001b[1;32m    758\u001b[0m     \u001b[0;32mreturn\u001b[0m \u001b[0mresult\u001b[0m\u001b[0;34m\u001b[0m\u001b[0;34m\u001b[0m\u001b[0m\n",
      "\u001b[0;32m~/anaconda3/lib/python3.7/site-packages/pandas/core/tools/datetimes.py\u001b[0m in \u001b[0;36m_convert_listlike_datetimes\u001b[0;34m(arg, format, name, tz, unit, errors, infer_datetime_format, dayfirst, yearfirst, exact)\u001b[0m\n\u001b[1;32m    292\u001b[0m     )\n\u001b[1;32m    293\u001b[0m \u001b[0;34m\u001b[0m\u001b[0m\n\u001b[0;32m--> 294\u001b[0;31m     \u001b[0;32mif\u001b[0m \u001b[0misinstance\u001b[0m\u001b[0;34m(\u001b[0m\u001b[0marg\u001b[0m\u001b[0;34m,\u001b[0m \u001b[0;34m(\u001b[0m\u001b[0mlist\u001b[0m\u001b[0;34m,\u001b[0m \u001b[0mtuple\u001b[0m\u001b[0;34m)\u001b[0m\u001b[0;34m)\u001b[0m\u001b[0;34m:\u001b[0m\u001b[0;34m\u001b[0m\u001b[0;34m\u001b[0m\u001b[0m\n\u001b[0m\u001b[1;32m    295\u001b[0m         \u001b[0marg\u001b[0m \u001b[0;34m=\u001b[0m \u001b[0mnp\u001b[0m\u001b[0;34m.\u001b[0m\u001b[0marray\u001b[0m\u001b[0;34m(\u001b[0m\u001b[0marg\u001b[0m\u001b[0;34m,\u001b[0m \u001b[0mdtype\u001b[0m\u001b[0;34m=\u001b[0m\u001b[0;34m\"O\"\u001b[0m\u001b[0;34m)\u001b[0m\u001b[0;34m\u001b[0m\u001b[0;34m\u001b[0m\u001b[0m\n\u001b[1;32m    296\u001b[0m \u001b[0;34m\u001b[0m\u001b[0m\n",
      "\u001b[0;31mKeyboardInterrupt\u001b[0m: "
     ]
    }
   ],
   "source": [
    "# ordered['created'] = [pd.to_datetime(dt).date() for dt in ordered['created_at']]\n"
   ]
  },
  {
   "cell_type": "code",
   "execution_count": 52,
   "metadata": {},
   "outputs": [],
   "source": [
    "ordered['created'] = [dt.date() for dt in ordered['created']]"
   ]
  },
  {
   "cell_type": "code",
   "execution_count": 59,
   "metadata": {
    "scrolled": true
   },
   "outputs": [
    {
     "data": {
      "text/html": [
       "<div>\n",
       "<style scoped>\n",
       "    .dataframe tbody tr th:only-of-type {\n",
       "        vertical-align: middle;\n",
       "    }\n",
       "\n",
       "    .dataframe tbody tr th {\n",
       "        vertical-align: top;\n",
       "    }\n",
       "\n",
       "    .dataframe thead th {\n",
       "        text-align: right;\n",
       "    }\n",
       "</style>\n",
       "<table border=\"1\" class=\"dataframe\">\n",
       "  <thead>\n",
       "    <tr style=\"text-align: right;\">\n",
       "      <th></th>\n",
       "      <th>funny</th>\n",
       "      <th>wow</th>\n",
       "      <th>text</th>\n",
       "      <th>publication_id</th>\n",
       "      <th>rating</th>\n",
       "      <th>article_id</th>\n",
       "      <th>id</th>\n",
       "      <th>sad</th>\n",
       "      <th>created_at</th>\n",
       "      <th>disagree</th>\n",
       "      <th>likes</th>\n",
       "      <th>parent_id</th>\n",
       "      <th>created</th>\n",
       "    </tr>\n",
       "  </thead>\n",
       "  <tbody>\n",
       "    <tr>\n",
       "      <th>337502</th>\n",
       "      <td>0</td>\n",
       "      <td>0</td>\n",
       "      <td>Secrecy is an internal component of the TPP. E...</td>\n",
       "      <td>54</td>\n",
       "      <td>approved</td>\n",
       "      <td>399437</td>\n",
       "      <td>6333090</td>\n",
       "      <td>0</td>\n",
       "      <td>2017-11-10 22:31:00.384647+00:00</td>\n",
       "      <td>0</td>\n",
       "      <td>1</td>\n",
       "      <td>6331916.0</td>\n",
       "      <td>2017-11-10</td>\n",
       "    </tr>\n",
       "  </tbody>\n",
       "</table>\n",
       "</div>"
      ],
      "text/plain": [
       "        funny  wow                                               text  \\\n",
       "337502      0    0  Secrecy is an internal component of the TPP. E...   \n",
       "\n",
       "        publication_id    rating  article_id       id  sad  \\\n",
       "337502              54  approved      399437  6333090    0   \n",
       "\n",
       "                              created_at  disagree  likes  parent_id  \\\n",
       "337502  2017-11-10 22:31:00.384647+00:00         0      1  6331916.0   \n",
       "\n",
       "           created  \n",
       "337502  2017-11-10  "
      ]
     },
     "execution_count": 59,
     "metadata": {},
     "output_type": "execute_result"
    }
   ],
   "source": [
    "ordered.tail(1)"
   ]
  },
  {
   "cell_type": "code",
   "execution_count": 55,
   "metadata": {},
   "outputs": [],
   "source": [
    "tot = ordered.groupby('created').sum()"
   ]
  },
  {
   "cell_type": "code",
   "execution_count": 78,
   "metadata": {},
   "outputs": [
    {
     "data": {
      "text/plain": [
       "<matplotlib.legend.Legend at 0x7f59c7244f50>"
      ]
     },
     "execution_count": 78,
     "metadata": {},
     "output_type": "execute_result"
    },
    {
     "data": {
      "image/png": "[encoded data removed]",
      "text/plain": [
       "<Figure size 432x288 with 1 Axes>"
      ]
     },
     "metadata": {
      "needs_background": "light"
     },
     "output_type": "display_data"
    }
   ],
   "source": [
    "plt.plot(tot.likes, label = 'Likes')\n",
    "plt.plot(tot.disagree, label = 'Disagree')\n",
    "plt.plot(tot.funny, label = 'Funny')\n",
    "plt.plot(tot.sad, label = 'Sad')\n",
    "plt.plot(tot.wow, label = 'Wow')\n",
    "plt.xticks(rotation=45)\n",
    "plt.\n",
    "plt.legend()\n",
    "plt.savefig('ratings_per_day')\n",
    "# around February of 2016 we have our first instances of ratings other than likes"
   ]
  },
  {
   "cell_type": "code",
   "execution_count": 83,
   "metadata": {},
   "outputs": [],
   "source": [
    "tot2 = ordered.groupby('created').count()"
   ]
  },
  {
   "cell_type": "code",
   "execution_count": 99,
   "metadata": {},
   "outputs": [
    {
     "data": {
      "text/plain": [
       "(array([160189., 342831., 205037., 133841.,  91708.,  64189.,  46928.,\n",
       "         35136.,  26779.,  20506.]),\n",
       " array([0. , 0.9, 1.8, 2.7, 3.6, 4.5, 5.4, 6.3, 7.2, 8.1, 9. ]),\n",
       " <a list of 10 Patch objects>)"
      ]
     },
     "execution_count": 99,
     "metadata": {},
     "output_type": "execute_result"
    },
    {
     "data": {
      "image/png": "[encoded data removed]",
      "text/plain": [
       "<Figure size 432x288 with 1 Axes>"
      ]
     },
     "metadata": {
      "needs_background": "light"
     },
     "output_type": "display_data"
    }
   ],
   "source": [
    "plt.hist(ordered[ordered.likes <10].likes)"
   ]
  },
  {
   "cell_type": "code",
   "execution_count": null,
   "metadata": {},
   "outputs": [],
   "source": []
  },
  {
   "cell_type": "code",
   "execution_count": null,
   "metadata": {},
   "outputs": [],
   "source": [
    ".to_csv('cleaned_comments.csv')\n"
   ]
  }
 ],
 "metadata": {
  "kernelspec": {
   "display_name": "Python 3",
   "language": "python",
   "name": "python3"
  },
  "language_info": {
   "codemirror_mode": {
    "name": "ipython",
    "version": 3
   },
   "file_extension": ".py",
   "mimetype": "text/x-python",
   "name": "python",
   "nbconvert_exporter": "python",
   "pygments_lexer": "ipython3",
   "version": "3.7.6"
  }
 },
 "nbformat": 4,
 "nbformat_minor": 4
}
