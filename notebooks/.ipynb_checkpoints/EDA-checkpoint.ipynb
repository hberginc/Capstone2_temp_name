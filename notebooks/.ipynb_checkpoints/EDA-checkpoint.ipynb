{
 "cells": [
  {
   "cell_type": "code",
   "execution_count": 1,
   "metadata": {},
   "outputs": [],
   "source": [
    "import zipfile\n",
    "import pandas as pd\n",
    "import matplotlib.pyplot as plt\n",
    "import numpy as np"
   ]
  },
  {
   "cell_type": "code",
   "execution_count": null,
   "metadata": {},
   "outputs": [],
   "source": []
  },
  {
   "cell_type": "code",
   "execution_count": 166,
   "metadata": {},
   "outputs": [],
   "source": [
    "# df1 = pd.read_json('bucket1.json', lines = True)"
   ]
  },
  {
   "cell_type": "code",
   "execution_count": 167,
   "metadata": {},
   "outputs": [],
   "source": [
    "# df2 = pd.read_json('bucket2.json', lines = True)"
   ]
  },
  {
   "cell_type": "code",
   "execution_count": 168,
   "metadata": {},
   "outputs": [],
   "source": [
    "# df3 = pd.read_json('bucket3.json', lines = True)"
   ]
  },
  {
   "cell_type": "code",
   "execution_count": 169,
   "metadata": {},
   "outputs": [],
   "source": [
    "# df1 = pd.read_json('bucket1.json', lines = True)\n",
    "# df2 = pd.read_json('bucket2.json', lines = True)\n",
    "# df3 = pd.read_json('bucket3.json', lines = True)\n",
    "# df4 = pd.read_json('bucket4.json', lines = True)\n",
    "# df5 = pd.read_json('bucket5.json', lines = True)"
   ]
  },
  {
   "cell_type": "code",
   "execution_count": 170,
   "metadata": {},
   "outputs": [],
   "source": [
    "# df5 = pd.read_json('bucket5.json', lines = True)"
   ]
  },
  {
   "cell_type": "code",
   "execution_count": 171,
   "metadata": {},
   "outputs": [],
   "source": [
    "# frames = [df1a, df2a, df3a]\n",
    "\n",
    "# result = pd.concat(frames)"
   ]
  },
  {
   "cell_type": "code",
   "execution_count": 50,
   "metadata": {},
   "outputs": [],
   "source": [
    "# f = df1.copy()\n",
    "# s = df2.copy()\n",
    "# t = df3.copy()\n",
    "# fo = df4.copy()\n",
    "# fi = df5.copy()\n",
    "\n",
    "# cols = [f,s,t,fo,fi]\n",
    "\n",
    "# comments_df = pd.concat(cols)\n"
   ]
  },
  {
   "cell_type": "code",
   "execution_count": 2,
   "metadata": {},
   "outputs": [],
   "source": [
    "df = pd.read_csv('/home/heather/galvanize/Capstone2/fulldata.csv')"
   ]
  },
  {
   "cell_type": "code",
   "execution_count": 3,
   "metadata": {},
   "outputs": [],
   "source": [
    "df.drop(['Unnamed: 0'], axis = 1, inplace = True)\n",
    "df.drop(1101124, axis = 0, inplace = True)"
   ]
  },
  {
   "cell_type": "code",
   "execution_count": 4,
   "metadata": {},
   "outputs": [],
   "source": [
    "# pd.to_datetime(df['created_at'][0]).date()"
   ]
  },
  {
   "cell_type": "code",
   "execution_count": 5,
   "metadata": {},
   "outputs": [],
   "source": [
    "df['created'] = [pd.to_datetime(dt).date() for dt in df['created_at']]\n",
    "# df['hour'] = [pd.to_datetime(dt).hour for dt in df['created_at']]\n"
   ]
  },
  {
   "cell_type": "code",
   "execution_count": 9,
   "metadata": {},
   "outputs": [],
   "source": [
    "df.rating = (df.rating == 'approved')*1\n",
    "df.parent_id = (~df.parent_id.isna())*1"
   ]
  },
  {
   "cell_type": "code",
   "execution_count": 31,
   "metadata": {},
   "outputs": [],
   "source": [
    "# df.to_csv('../cleaned_comments.csv', index = False)"
   ]
  },
  {
   "cell_type": "code",
   "execution_count": 32,
   "metadata": {},
   "outputs": [],
   "source": [
    "sample_df= df.sample(frac=1/15, random_state=1)\n"
   ]
  },
  {
   "cell_type": "code",
   "execution_count": 36,
   "metadata": {},
   "outputs": [],
   "source": [
    "sample_df.drop('created_at', axis = 1, inplace = True)"
   ]
  },
  {
   "cell_type": "code",
   "execution_count": 44,
   "metadata": {},
   "outputs": [],
   "source": [
    "# sample_df.to_csv('../sample_df.csv', index = False)"
   ]
  },
  {
   "cell_type": "code",
   "execution_count": 47,
   "metadata": {},
   "outputs": [
    {
     "data": {
      "text/plain": [
       "0.07333790878218784"
      ]
     },
     "execution_count": 47,
     "metadata": {},
     "output_type": "execute_result"
    }
   ],
   "source": [
    "sample_df.rating.value_counts()\n",
    "8228/112193"
   ]
  },
  {
   "cell_type": "code",
   "execution_count": null,
   "metadata": {},
   "outputs": [],
   "source": [
    "# delete any line that doesnt have a label...something that no one has commented on\n",
    "# or ID types of comments that no one engages with\n",
    "# divide the data up into four separate datasets....one dataset where each article has at least one...then make a multilabel predictor\n",
    "# cluster the information that people find funny and like...funny and sad...wow and sad\n",
    "# refression or classification? how many likes or is it likely to get any likes at all"
   ]
  },
  {
   "cell_type": "code",
   "execution_count": 7,
   "metadata": {},
   "outputs": [],
   "source": [
    "#drop all values that have no funny,wow,sad...\n",
    "# sentiment_array = comments_df[['funny', 'wow', 'sad', 'disagree', 'likes']]\n",
    "# cleaned_df = comments_df.loc[~(sentiment_array==0).all(axis=1)].reset_index()"
   ]
  },
  {
   "cell_type": "code",
   "execution_count": 45,
   "metadata": {},
   "outputs": [],
   "source": [
    "# new_s_df = cleaned_df[['funny', 'wow', 'sad', 'disagree', 'likes']]\n",
    "\n",
    "# idx_non_zero = []\n",
    "# for i in new_s_df[:10].values:\n",
    "#     if sum(i) != 0:\n",
    "#         idx_non_zero.append(i)\n"
   ]
  },
  {
   "cell_type": "code",
   "execution_count": null,
   "metadata": {},
   "outputs": [],
   "source": []
  },
  {
   "cell_type": "code",
   "execution_count": 42,
   "metadata": {},
   "outputs": [
    {
     "data": {
      "text/html": [
       "<div>\n",
       "<style scoped>\n",
       "    .dataframe tbody tr th:only-of-type {\n",
       "        vertical-align: middle;\n",
       "    }\n",
       "\n",
       "    .dataframe tbody tr th {\n",
       "        vertical-align: top;\n",
       "    }\n",
       "\n",
       "    .dataframe thead th {\n",
       "        text-align: right;\n",
       "    }\n",
       "</style>\n",
       "<table border=\"1\" class=\"dataframe\">\n",
       "  <thead>\n",
       "    <tr style=\"text-align: right;\">\n",
       "      <th></th>\n",
       "      <th>Unnamed: 0</th>\n",
       "      <th>funny</th>\n",
       "      <th>wow</th>\n",
       "      <th>text</th>\n",
       "      <th>publication_id</th>\n",
       "      <th>rating</th>\n",
       "      <th>article_id</th>\n",
       "      <th>id</th>\n",
       "      <th>sad</th>\n",
       "      <th>disagree</th>\n",
       "      <th>likes</th>\n",
       "      <th>parent_id</th>\n",
       "      <th>created</th>\n",
       "      <th>created_time</th>\n",
       "    </tr>\n",
       "  </thead>\n",
       "  <tbody>\n",
       "    <tr>\n",
       "      <th>0</th>\n",
       "      <td>0</td>\n",
       "      <td>0</td>\n",
       "      <td>0</td>\n",
       "      <td>haha you guys are a bunch of losers.</td>\n",
       "      <td>2</td>\n",
       "      <td>0</td>\n",
       "      <td>2006</td>\n",
       "      <td>59856</td>\n",
       "      <td>0</td>\n",
       "      <td>0</td>\n",
       "      <td>1</td>\n",
       "      <td>0.0</td>\n",
       "      <td>2015-09-29</td>\n",
       "      <td>10</td>\n",
       "    </tr>\n",
       "    <tr>\n",
       "      <th>1</th>\n",
       "      <td>1</td>\n",
       "      <td>0</td>\n",
       "      <td>0</td>\n",
       "      <td>How can the author claim that Star Wars is bet...</td>\n",
       "      <td>22</td>\n",
       "      <td>1</td>\n",
       "      <td>59527</td>\n",
       "      <td>282338</td>\n",
       "      <td>0</td>\n",
       "      <td>0</td>\n",
       "      <td>1</td>\n",
       "      <td>0.0</td>\n",
       "      <td>2015-09-29</td>\n",
       "      <td>16</td>\n",
       "    </tr>\n",
       "    <tr>\n",
       "      <th>2</th>\n",
       "      <td>2</td>\n",
       "      <td>0</td>\n",
       "      <td>0</td>\n",
       "      <td>I agree 100% with everything here. Bruce Campb...</td>\n",
       "      <td>111</td>\n",
       "      <td>1</td>\n",
       "      <td>32846</td>\n",
       "      <td>240372</td>\n",
       "      <td>0</td>\n",
       "      <td>0</td>\n",
       "      <td>1</td>\n",
       "      <td>0.0</td>\n",
       "      <td>2015-09-29</td>\n",
       "      <td>16</td>\n",
       "    </tr>\n",
       "    <tr>\n",
       "      <th>3</th>\n",
       "      <td>3</td>\n",
       "      <td>0</td>\n",
       "      <td>0</td>\n",
       "      <td>While I disagree about \"The Phantom Menace,\" t...</td>\n",
       "      <td>111</td>\n",
       "      <td>1</td>\n",
       "      <td>32846</td>\n",
       "      <td>240387</td>\n",
       "      <td>0</td>\n",
       "      <td>0</td>\n",
       "      <td>1</td>\n",
       "      <td>0.0</td>\n",
       "      <td>2015-09-29</td>\n",
       "      <td>16</td>\n",
       "    </tr>\n",
       "    <tr>\n",
       "      <th>4</th>\n",
       "      <td>4</td>\n",
       "      <td>0</td>\n",
       "      <td>0</td>\n",
       "      <td>I agree, but only 99%.</td>\n",
       "      <td>111</td>\n",
       "      <td>1</td>\n",
       "      <td>32846</td>\n",
       "      <td>240373</td>\n",
       "      <td>0</td>\n",
       "      <td>0</td>\n",
       "      <td>1</td>\n",
       "      <td>1.0</td>\n",
       "      <td>2015-09-29</td>\n",
       "      <td>16</td>\n",
       "    </tr>\n",
       "  </tbody>\n",
       "</table>\n",
       "</div>"
      ],
      "text/plain": [
       "   Unnamed: 0  funny  wow                                               text  \\\n",
       "0           0      0    0               haha you guys are a bunch of losers.   \n",
       "1           1      0    0  How can the author claim that Star Wars is bet...   \n",
       "2           2      0    0  I agree 100% with everything here. Bruce Campb...   \n",
       "3           3      0    0  While I disagree about \"The Phantom Menace,\" t...   \n",
       "4           4      0    0                             I agree, but only 99%.   \n",
       "\n",
       "   publication_id  rating  article_id      id  sad  disagree  likes  \\\n",
       "0               2       0        2006   59856    0         0      1   \n",
       "1              22       1       59527  282338    0         0      1   \n",
       "2             111       1       32846  240372    0         0      1   \n",
       "3             111       1       32846  240387    0         0      1   \n",
       "4             111       1       32846  240373    0         0      1   \n",
       "\n",
       "   parent_id     created  created_time  \n",
       "0        0.0  2015-09-29            10  \n",
       "1        0.0  2015-09-29            16  \n",
       "2        0.0  2015-09-29            16  \n",
       "3        0.0  2015-09-29            16  \n",
       "4        1.0  2015-09-29            16  "
      ]
     },
     "execution_count": 42,
     "metadata": {},
     "output_type": "execute_result"
    }
   ],
   "source": [
    "comments_df.head()\n"
   ]
  },
  {
   "cell_type": "code",
   "execution_count": 48,
   "metadata": {},
   "outputs": [],
   "source": []
  },
  {
   "cell_type": "code",
   "execution_count": 5,
   "metadata": {},
   "outputs": [
    {
     "data": {
      "text/html": [
       "<div>\n",
       "<style scoped>\n",
       "    .dataframe tbody tr th:only-of-type {\n",
       "        vertical-align: middle;\n",
       "    }\n",
       "\n",
       "    .dataframe tbody tr th {\n",
       "        vertical-align: top;\n",
       "    }\n",
       "\n",
       "    .dataframe thead th {\n",
       "        text-align: right;\n",
       "    }\n",
       "</style>\n",
       "<table border=\"1\" class=\"dataframe\">\n",
       "  <thead>\n",
       "    <tr style=\"text-align: right;\">\n",
       "      <th></th>\n",
       "      <th>funny</th>\n",
       "      <th>wow</th>\n",
       "      <th>text</th>\n",
       "      <th>publication_id</th>\n",
       "      <th>rating</th>\n",
       "      <th>article_id</th>\n",
       "      <th>id</th>\n",
       "      <th>sad</th>\n",
       "      <th>disagree</th>\n",
       "      <th>likes</th>\n",
       "      <th>parent_id</th>\n",
       "      <th>created</th>\n",
       "      <th>created_time</th>\n",
       "    </tr>\n",
       "  </thead>\n",
       "  <tbody>\n",
       "  </tbody>\n",
       "</table>\n",
       "</div>"
      ],
      "text/plain": [
       "Empty DataFrame\n",
       "Columns: [funny, wow, text, publication_id, rating, article_id, id, sad, disagree, likes, parent_id, created, created_time]\n",
       "Index: []"
      ]
     },
     "execution_count": 5,
     "metadata": {},
     "output_type": "execute_result"
    }
   ],
   "source": [
    "comments_df[comments_df.text.isna()]"
   ]
  },
  {
   "cell_type": "code",
   "execution_count": 14,
   "metadata": {},
   "outputs": [],
   "source": [
    "# comments_df.drop(index = 736029, axis = 0, inplace = True)"
   ]
  },
  {
   "cell_type": "code",
   "execution_count": 7,
   "metadata": {},
   "outputs": [],
   "source": [
    "# ordered = comments_df.sort_values(by='created_at')"
   ]
  },
  {
   "cell_type": "code",
   "execution_count": 8,
   "metadata": {},
   "outputs": [],
   "source": [
    "# pd.to_datetime(ordered.created_at[0])"
   ]
  },
  {
   "cell_type": "code",
   "execution_count": null,
   "metadata": {},
   "outputs": [],
   "source": []
  },
  {
   "cell_type": "code",
   "execution_count": 48,
   "metadata": {
    "collapsed": true
   },
   "outputs": [
    {
     "ename": "KeyboardInterrupt",
     "evalue": "",
     "output_type": "error",
     "traceback": [
      "\u001b[0;31m---------------------------------------------------------------------------\u001b[0m",
      "\u001b[0;31mKeyboardInterrupt\u001b[0m                         Traceback (most recent call last)",
      "\u001b[0;32m<ipython-input-48-1a2ba197631f>\u001b[0m in \u001b[0;36m<module>\u001b[0;34m\u001b[0m\n\u001b[0;32m----> 1\u001b[0;31m \u001b[0mordered\u001b[0m\u001b[0;34m[\u001b[0m\u001b[0;34m'created'\u001b[0m\u001b[0;34m]\u001b[0m \u001b[0;34m=\u001b[0m \u001b[0;34m[\u001b[0m\u001b[0mpd\u001b[0m\u001b[0;34m.\u001b[0m\u001b[0mto_datetime\u001b[0m\u001b[0;34m(\u001b[0m\u001b[0mdt\u001b[0m\u001b[0;34m)\u001b[0m\u001b[0;34m.\u001b[0m\u001b[0mdate\u001b[0m\u001b[0;34m(\u001b[0m\u001b[0;34m)\u001b[0m \u001b[0;32mfor\u001b[0m \u001b[0mdt\u001b[0m \u001b[0;32min\u001b[0m \u001b[0mordered\u001b[0m\u001b[0;34m[\u001b[0m\u001b[0;34m'created_at'\u001b[0m\u001b[0;34m]\u001b[0m\u001b[0;34m]\u001b[0m\u001b[0;34m\u001b[0m\u001b[0;34m\u001b[0m\u001b[0m\n\u001b[0m",
      "\u001b[0;32m<ipython-input-48-1a2ba197631f>\u001b[0m in \u001b[0;36m<listcomp>\u001b[0;34m(.0)\u001b[0m\n\u001b[0;32m----> 1\u001b[0;31m \u001b[0mordered\u001b[0m\u001b[0;34m[\u001b[0m\u001b[0;34m'created'\u001b[0m\u001b[0;34m]\u001b[0m \u001b[0;34m=\u001b[0m \u001b[0;34m[\u001b[0m\u001b[0mpd\u001b[0m\u001b[0;34m.\u001b[0m\u001b[0mto_datetime\u001b[0m\u001b[0;34m(\u001b[0m\u001b[0mdt\u001b[0m\u001b[0;34m)\u001b[0m\u001b[0;34m.\u001b[0m\u001b[0mdate\u001b[0m\u001b[0;34m(\u001b[0m\u001b[0;34m)\u001b[0m \u001b[0;32mfor\u001b[0m \u001b[0mdt\u001b[0m \u001b[0;32min\u001b[0m \u001b[0mordered\u001b[0m\u001b[0;34m[\u001b[0m\u001b[0;34m'created_at'\u001b[0m\u001b[0;34m]\u001b[0m\u001b[0;34m]\u001b[0m\u001b[0;34m\u001b[0m\u001b[0;34m\u001b[0m\u001b[0m\n\u001b[0m",
      "\u001b[0;32m~/anaconda3/lib/python3.7/site-packages/pandas/core/tools/datetimes.py\u001b[0m in \u001b[0;36mto_datetime\u001b[0;34m(arg, errors, dayfirst, yearfirst, utc, format, exact, unit, infer_datetime_format, origin, cache)\u001b[0m\n\u001b[1;32m    754\u001b[0m             \u001b[0mresult\u001b[0m \u001b[0;34m=\u001b[0m \u001b[0mconvert_listlike\u001b[0m\u001b[0;34m(\u001b[0m\u001b[0marg\u001b[0m\u001b[0;34m,\u001b[0m \u001b[0mformat\u001b[0m\u001b[0;34m)\u001b[0m\u001b[0;34m\u001b[0m\u001b[0;34m\u001b[0m\u001b[0m\n\u001b[1;32m    755\u001b[0m     \u001b[0;32melse\u001b[0m\u001b[0;34m:\u001b[0m\u001b[0;34m\u001b[0m\u001b[0;34m\u001b[0m\u001b[0m\n\u001b[0;32m--> 756\u001b[0;31m         \u001b[0mresult\u001b[0m \u001b[0;34m=\u001b[0m \u001b[0mconvert_listlike\u001b[0m\u001b[0;34m(\u001b[0m\u001b[0mnp\u001b[0m\u001b[0;34m.\u001b[0m\u001b[0marray\u001b[0m\u001b[0;34m(\u001b[0m\u001b[0;34m[\u001b[0m\u001b[0marg\u001b[0m\u001b[0;34m]\u001b[0m\u001b[0;34m)\u001b[0m\u001b[0;34m,\u001b[0m \u001b[0mformat\u001b[0m\u001b[0;34m)\u001b[0m\u001b[0;34m[\u001b[0m\u001b[0;36m0\u001b[0m\u001b[0;34m]\u001b[0m\u001b[0;34m\u001b[0m\u001b[0;34m\u001b[0m\u001b[0m\n\u001b[0m\u001b[1;32m    757\u001b[0m \u001b[0;34m\u001b[0m\u001b[0m\n\u001b[1;32m    758\u001b[0m     \u001b[0;32mreturn\u001b[0m \u001b[0mresult\u001b[0m\u001b[0;34m\u001b[0m\u001b[0;34m\u001b[0m\u001b[0m\n",
      "\u001b[0;32m~/anaconda3/lib/python3.7/site-packages/pandas/core/tools/datetimes.py\u001b[0m in \u001b[0;36m_convert_listlike_datetimes\u001b[0;34m(arg, format, name, tz, unit, errors, infer_datetime_format, dayfirst, yearfirst, exact)\u001b[0m\n\u001b[1;32m    292\u001b[0m     )\n\u001b[1;32m    293\u001b[0m \u001b[0;34m\u001b[0m\u001b[0m\n\u001b[0;32m--> 294\u001b[0;31m     \u001b[0;32mif\u001b[0m \u001b[0misinstance\u001b[0m\u001b[0;34m(\u001b[0m\u001b[0marg\u001b[0m\u001b[0;34m,\u001b[0m \u001b[0;34m(\u001b[0m\u001b[0mlist\u001b[0m\u001b[0;34m,\u001b[0m \u001b[0mtuple\u001b[0m\u001b[0;34m)\u001b[0m\u001b[0;34m)\u001b[0m\u001b[0;34m:\u001b[0m\u001b[0;34m\u001b[0m\u001b[0;34m\u001b[0m\u001b[0m\n\u001b[0m\u001b[1;32m    295\u001b[0m         \u001b[0marg\u001b[0m \u001b[0;34m=\u001b[0m \u001b[0mnp\u001b[0m\u001b[0;34m.\u001b[0m\u001b[0marray\u001b[0m\u001b[0;34m(\u001b[0m\u001b[0marg\u001b[0m\u001b[0;34m,\u001b[0m \u001b[0mdtype\u001b[0m\u001b[0;34m=\u001b[0m\u001b[0;34m\"O\"\u001b[0m\u001b[0;34m)\u001b[0m\u001b[0;34m\u001b[0m\u001b[0;34m\u001b[0m\u001b[0m\n\u001b[1;32m    296\u001b[0m \u001b[0;34m\u001b[0m\u001b[0m\n",
      "\u001b[0;31mKeyboardInterrupt\u001b[0m: "
     ]
    }
   ],
   "source": [
    "# ordered['created'] = [pd.to_datetime(dt).date() for dt in ordered['created_at']]\n"
   ]
  },
  {
   "cell_type": "code",
   "execution_count": 9,
   "metadata": {},
   "outputs": [],
   "source": [
    "# ordered['created'] = [dt.date() for dt in ordered['created']]"
   ]
  },
  {
   "cell_type": "code",
   "execution_count": 11,
   "metadata": {
    "scrolled": true
   },
   "outputs": [
    {
     "data": {
      "text/html": [
       "<div>\n",
       "<style scoped>\n",
       "    .dataframe tbody tr th:only-of-type {\n",
       "        vertical-align: middle;\n",
       "    }\n",
       "\n",
       "    .dataframe tbody tr th {\n",
       "        vertical-align: top;\n",
       "    }\n",
       "\n",
       "    .dataframe thead th {\n",
       "        text-align: right;\n",
       "    }\n",
       "</style>\n",
       "<table border=\"1\" class=\"dataframe\">\n",
       "  <thead>\n",
       "    <tr style=\"text-align: right;\">\n",
       "      <th></th>\n",
       "      <th>funny</th>\n",
       "      <th>wow</th>\n",
       "      <th>text</th>\n",
       "      <th>publication_id</th>\n",
       "      <th>rating</th>\n",
       "      <th>article_id</th>\n",
       "      <th>id</th>\n",
       "      <th>sad</th>\n",
       "      <th>disagree</th>\n",
       "      <th>likes</th>\n",
       "      <th>parent_id</th>\n",
       "      <th>created</th>\n",
       "      <th>created_time</th>\n",
       "    </tr>\n",
       "  </thead>\n",
       "  <tbody>\n",
       "    <tr>\n",
       "      <th>1223657</th>\n",
       "      <td>0</td>\n",
       "      <td>0</td>\n",
       "      <td>Secrecy is an internal component of the TPP. E...</td>\n",
       "      <td>54</td>\n",
       "      <td>approved</td>\n",
       "      <td>399437</td>\n",
       "      <td>6333090</td>\n",
       "      <td>0</td>\n",
       "      <td>0</td>\n",
       "      <td>1</td>\n",
       "      <td>6331916.0</td>\n",
       "      <td>2017-11-10</td>\n",
       "      <td>22</td>\n",
       "    </tr>\n",
       "  </tbody>\n",
       "</table>\n",
       "</div>"
      ],
      "text/plain": [
       "         funny  wow                                               text  \\\n",
       "1223657      0    0  Secrecy is an internal component of the TPP. E...   \n",
       "\n",
       "         publication_id    rating  article_id       id  sad  disagree  likes  \\\n",
       "1223657              54  approved      399437  6333090    0         0      1   \n",
       "\n",
       "         parent_id     created  created_time  \n",
       "1223657  6331916.0  2017-11-10            22  "
      ]
     },
     "execution_count": 11,
     "metadata": {},
     "output_type": "execute_result"
    }
   ],
   "source": [
    "comments_df.tail(1)"
   ]
  },
  {
   "cell_type": "code",
   "execution_count": 104,
   "metadata": {},
   "outputs": [],
   "source": [
    "# tot = ordered.groupby('created').sum()"
   ]
  },
  {
   "cell_type": "code",
   "execution_count": 105,
   "metadata": {},
   "outputs": [
    {
     "data": {
      "image/png": "[encoded data removed]",
      "text/plain": [
       "<Figure size 432x288 with 1 Axes>"
      ]
     },
     "metadata": {
      "needs_background": "light"
     },
     "output_type": "display_data"
    }
   ],
   "source": [
    "plt.plot(tot.likes, label = 'Likes')\n",
    "plt.plot(tot.disagree, label = 'Disagree')\n",
    "plt.plot(tot.funny, label = 'Funny')\n",
    "plt.plot(tot.sad, label = 'Sad')\n",
    "plt.plot(tot.wow, label = 'Wow')\n",
    "plt.xticks(rotation=45)\n",
    "plt.xlabel('Days')\n",
    "plt.ylabel('Sum of Daily Votes')\n",
    "plt.legend()\n",
    "# plt.savefig('ratings_per_day')\n",
    "# around February of 2016 we have our first instances of ratings other than likes"
   ]
  },
  {
   "cell_type": "code",
   "execution_count": 47,
   "metadata": {},
   "outputs": [
    {
     "data": {
      "text/plain": [
       "2.0"
      ]
     },
     "execution_count": 47,
     "metadata": {},
     "output_type": "execute_result"
    }
   ],
   "source": [
    "# tot2 = ordered.groupby('created').count()\n",
    "#for each day...comments got lots of the likes that were available...daily popularity...ratio of likes available\n",
    "np.median(comments_df.likes)"
   ]
  },
  {
   "cell_type": "code",
   "execution_count": 44,
   "metadata": {},
   "outputs": [
    {
     "data": {
      "text/plain": [
       "(array([7.07804e+05, 2.89738e+05, 1.08843e+05, 4.92210e+04, 2.52950e+04,\n",
       "        1.45040e+04, 8.66100e+03, 5.64900e+03, 3.68200e+03, 2.52500e+03,\n",
       "        1.82300e+03, 1.29400e+03, 9.40000e+02, 6.72000e+02, 5.56000e+02,\n",
       "        4.21000e+02, 3.44000e+02, 2.53000e+02, 2.20000e+02, 2.05000e+02,\n",
       "        1.28000e+02, 1.30000e+02, 1.14000e+02, 7.80000e+01, 7.20000e+01,\n",
       "        6.80000e+01, 5.00000e+01, 4.10000e+01, 4.40000e+01, 2.40000e+01,\n",
       "        3.50000e+01, 2.60000e+01, 2.00000e+01, 1.70000e+01, 1.50000e+01,\n",
       "        2.10000e+01, 1.30000e+01, 8.00000e+00, 9.00000e+00, 1.00000e+01,\n",
       "        9.00000e+00, 9.00000e+00, 6.00000e+00, 9.00000e+00, 7.00000e+00,\n",
       "        2.00000e+00, 4.00000e+00, 4.00000e+00, 4.00000e+00, 4.00000e+00,\n",
       "        2.00000e+00, 4.00000e+00, 2.00000e+00, 1.00000e+00, 1.00000e+00,\n",
       "        2.00000e+00, 1.00000e+00, 2.00000e+00, 0.00000e+00, 0.00000e+00,\n",
       "        3.00000e+00, 0.00000e+00, 1.00000e+00, 1.00000e+00, 1.00000e+00,\n",
       "        0.00000e+00, 0.00000e+00, 1.00000e+00, 0.00000e+00, 2.00000e+00,\n",
       "        0.00000e+00, 0.00000e+00, 0.00000e+00, 0.00000e+00, 1.00000e+00,\n",
       "        0.00000e+00, 0.00000e+00, 0.00000e+00, 1.00000e+00, 0.00000e+00,\n",
       "        0.00000e+00, 0.00000e+00, 0.00000e+00, 0.00000e+00, 0.00000e+00,\n",
       "        0.00000e+00, 0.00000e+00, 0.00000e+00, 0.00000e+00, 0.00000e+00,\n",
       "        0.00000e+00, 0.00000e+00, 0.00000e+00, 0.00000e+00, 0.00000e+00,\n",
       "        0.00000e+00, 0.00000e+00, 0.00000e+00, 0.00000e+00, 1.00000e+00]),\n",
       " array([  0.,   3.,   6.,   9.,  12.,  15.,  18.,  21.,  24.,  27.,  30.,\n",
       "         33.,  36.,  39.,  42.,  45.,  48.,  51.,  54.,  57.,  60.,  63.,\n",
       "         66.,  69.,  72.,  75.,  78.,  81.,  84.,  87.,  90.,  93.,  96.,\n",
       "         99., 102., 105., 108., 111., 114., 117., 120., 123., 126., 129.,\n",
       "        132., 135., 138., 141., 144., 147., 150., 153., 156., 159., 162.,\n",
       "        165., 168., 171., 174., 177., 180., 183., 186., 189., 192., 195.,\n",
       "        198., 201., 204., 207., 210., 213., 216., 219., 222., 225., 228.,\n",
       "        231., 234., 237., 240., 243., 246., 249., 252., 255., 258., 261.,\n",
       "        264., 267., 270., 273., 276., 279., 282., 285., 288., 291., 294.,\n",
       "        297., 300.]),\n",
       " <a list of 100 Patch objects>)"
      ]
     },
     "execution_count": 44,
     "metadata": {},
     "output_type": "execute_result"
    },
    {
     "data": {
      "image/png": "[encoded data removed]",
      "text/plain": [
       "<Figure size 432x288 with 1 Axes>"
      ]
     },
     "metadata": {
      "needs_background": "light"
     },
     "output_type": "display_data"
    }
   ],
   "source": [
    "plt.hist(comments_df.likes, bins = 100)"
   ]
  },
  {
   "cell_type": "code",
   "execution_count": 47,
   "metadata": {},
   "outputs": [],
   "source": [
    "#keep funny wow text vectorized \n",
    "# comments_df.rating.replace('rejected', 0, inplace = True)\n",
    "# comments_df.rating.replace('approved', 1, inplace = True)\n"
   ]
  },
  {
   "cell_type": "code",
   "execution_count": 48,
   "metadata": {},
   "outputs": [],
   "source": [
    "comments_df.fillna(value=0, inplace = True)"
   ]
  },
  {
   "cell_type": "code",
   "execution_count": 67,
   "metadata": {},
   "outputs": [],
   "source": [
    "# comments_df[comments_df.parent_id != 0].parent_id"
   ]
  },
  {
   "cell_type": "code",
   "execution_count": 84,
   "metadata": {},
   "outputs": [
    {
     "data": {
      "text/html": [
       "<div>\n",
       "<style scoped>\n",
       "    .dataframe tbody tr th:only-of-type {\n",
       "        vertical-align: middle;\n",
       "    }\n",
       "\n",
       "    .dataframe tbody tr th {\n",
       "        vertical-align: top;\n",
       "    }\n",
       "\n",
       "    .dataframe thead th {\n",
       "        text-align: right;\n",
       "    }\n",
       "</style>\n",
       "<table border=\"1\" class=\"dataframe\">\n",
       "  <thead>\n",
       "    <tr style=\"text-align: right;\">\n",
       "      <th></th>\n",
       "      <th>Unnamed: 0</th>\n",
       "      <th>funny</th>\n",
       "      <th>wow</th>\n",
       "      <th>text</th>\n",
       "      <th>publication_id</th>\n",
       "      <th>rating</th>\n",
       "      <th>article_id</th>\n",
       "      <th>id</th>\n",
       "      <th>sad</th>\n",
       "      <th>disagree</th>\n",
       "      <th>likes</th>\n",
       "      <th>parent_id</th>\n",
       "      <th>created</th>\n",
       "      <th>created_time</th>\n",
       "    </tr>\n",
       "  </thead>\n",
       "  <tbody>\n",
       "    <tr>\n",
       "      <th>0</th>\n",
       "      <td>0</td>\n",
       "      <td>0</td>\n",
       "      <td>0</td>\n",
       "      <td>haha you guys are a bunch of losers.</td>\n",
       "      <td>2</td>\n",
       "      <td>0</td>\n",
       "      <td>2006</td>\n",
       "      <td>59856</td>\n",
       "      <td>0</td>\n",
       "      <td>0</td>\n",
       "      <td>1</td>\n",
       "      <td>0.0</td>\n",
       "      <td>2015-09-29</td>\n",
       "      <td>10</td>\n",
       "    </tr>\n",
       "    <tr>\n",
       "      <th>32</th>\n",
       "      <td>32</td>\n",
       "      <td>0</td>\n",
       "      <td>0</td>\n",
       "      <td>I want to see what happens to spammy comments ...</td>\n",
       "      <td>111</td>\n",
       "      <td>0</td>\n",
       "      <td>32846</td>\n",
       "      <td>240408</td>\n",
       "      <td>0</td>\n",
       "      <td>0</td>\n",
       "      <td>1</td>\n",
       "      <td>0.0</td>\n",
       "      <td>2015-09-29</td>\n",
       "      <td>19</td>\n",
       "    </tr>\n",
       "    <tr>\n",
       "      <th>299</th>\n",
       "      <td>299</td>\n",
       "      <td>0</td>\n",
       "      <td>0</td>\n",
       "      <td>OH GREAT ANOTHER PERSON MOVING TO LA TO RUIN T...</td>\n",
       "      <td>6</td>\n",
       "      <td>0</td>\n",
       "      <td>33231</td>\n",
       "      <td>240652</td>\n",
       "      <td>0</td>\n",
       "      <td>0</td>\n",
       "      <td>1</td>\n",
       "      <td>0.0</td>\n",
       "      <td>2016-01-22</td>\n",
       "      <td>21</td>\n",
       "    </tr>\n",
       "    <tr>\n",
       "      <th>452</th>\n",
       "      <td>452</td>\n",
       "      <td>0</td>\n",
       "      <td>0</td>\n",
       "      <td>Perhaps you should spell check, prior to posti...</td>\n",
       "      <td>6</td>\n",
       "      <td>0</td>\n",
       "      <td>34427</td>\n",
       "      <td>241085</td>\n",
       "      <td>0</td>\n",
       "      <td>0</td>\n",
       "      <td>1</td>\n",
       "      <td>1.0</td>\n",
       "      <td>2016-01-28</td>\n",
       "      <td>17</td>\n",
       "    </tr>\n",
       "    <tr>\n",
       "      <th>458</th>\n",
       "      <td>458</td>\n",
       "      <td>0</td>\n",
       "      <td>0</td>\n",
       "      <td>Re: \"In Portland, a group of boaters actually ...</td>\n",
       "      <td>6</td>\n",
       "      <td>0</td>\n",
       "      <td>34877</td>\n",
       "      <td>241107</td>\n",
       "      <td>0</td>\n",
       "      <td>0</td>\n",
       "      <td>1</td>\n",
       "      <td>0.0</td>\n",
       "      <td>2016-01-28</td>\n",
       "      <td>20</td>\n",
       "    </tr>\n",
       "    <tr>\n",
       "      <th>...</th>\n",
       "      <td>...</td>\n",
       "      <td>...</td>\n",
       "      <td>...</td>\n",
       "      <td>...</td>\n",
       "      <td>...</td>\n",
       "      <td>...</td>\n",
       "      <td>...</td>\n",
       "      <td>...</td>\n",
       "      <td>...</td>\n",
       "      <td>...</td>\n",
       "      <td>...</td>\n",
       "      <td>...</td>\n",
       "      <td>...</td>\n",
       "      <td>...</td>\n",
       "    </tr>\n",
       "    <tr>\n",
       "      <th>1223426</th>\n",
       "      <td>1223426</td>\n",
       "      <td>0</td>\n",
       "      <td>0</td>\n",
       "      <td>Illegal immigrant praised by anti immigrant co...</td>\n",
       "      <td>21</td>\n",
       "      <td>0</td>\n",
       "      <td>399447</td>\n",
       "      <td>6332176</td>\n",
       "      <td>0</td>\n",
       "      <td>2</td>\n",
       "      <td>0</td>\n",
       "      <td>0.0</td>\n",
       "      <td>2017-11-10</td>\n",
       "      <td>20</td>\n",
       "    </tr>\n",
       "    <tr>\n",
       "      <th>1223433</th>\n",
       "      <td>1223433</td>\n",
       "      <td>0</td>\n",
       "      <td>0</td>\n",
       "      <td>Our military and their families love our First...</td>\n",
       "      <td>21</td>\n",
       "      <td>0</td>\n",
       "      <td>399447</td>\n",
       "      <td>6332200</td>\n",
       "      <td>0</td>\n",
       "      <td>0</td>\n",
       "      <td>1</td>\n",
       "      <td>0.0</td>\n",
       "      <td>2017-11-10</td>\n",
       "      <td>20</td>\n",
       "    </tr>\n",
       "    <tr>\n",
       "      <th>1223437</th>\n",
       "      <td>1223437</td>\n",
       "      <td>0</td>\n",
       "      <td>0</td>\n",
       "      <td>However, when Trudeau aired our dirty laundry ...</td>\n",
       "      <td>54</td>\n",
       "      <td>0</td>\n",
       "      <td>399437</td>\n",
       "      <td>6332210</td>\n",
       "      <td>1</td>\n",
       "      <td>2</td>\n",
       "      <td>5</td>\n",
       "      <td>1.0</td>\n",
       "      <td>2017-11-10</td>\n",
       "      <td>20</td>\n",
       "    </tr>\n",
       "    <tr>\n",
       "      <th>1223446</th>\n",
       "      <td>1223446</td>\n",
       "      <td>0</td>\n",
       "      <td>0</td>\n",
       "      <td>....said the liberal bootlicker.</td>\n",
       "      <td>102</td>\n",
       "      <td>0</td>\n",
       "      <td>399436</td>\n",
       "      <td>6332242</td>\n",
       "      <td>0</td>\n",
       "      <td>0</td>\n",
       "      <td>1</td>\n",
       "      <td>1.0</td>\n",
       "      <td>2017-11-10</td>\n",
       "      <td>20</td>\n",
       "    </tr>\n",
       "    <tr>\n",
       "      <th>1223623</th>\n",
       "      <td>1223623</td>\n",
       "      <td>0</td>\n",
       "      <td>0</td>\n",
       "      <td>You mean like the peace in Rwanda, where the b...</td>\n",
       "      <td>105</td>\n",
       "      <td>0</td>\n",
       "      <td>399250</td>\n",
       "      <td>6332875</td>\n",
       "      <td>0</td>\n",
       "      <td>0</td>\n",
       "      <td>2</td>\n",
       "      <td>1.0</td>\n",
       "      <td>2017-11-10</td>\n",
       "      <td>21</td>\n",
       "    </tr>\n",
       "  </tbody>\n",
       "</table>\n",
       "<p>27196 rows × 14 columns</p>\n",
       "</div>"
      ],
      "text/plain": [
       "         Unnamed: 0  funny  wow  \\\n",
       "0                 0      0    0   \n",
       "32               32      0    0   \n",
       "299             299      0    0   \n",
       "452             452      0    0   \n",
       "458             458      0    0   \n",
       "...             ...    ...  ...   \n",
       "1223426     1223426      0    0   \n",
       "1223433     1223433      0    0   \n",
       "1223437     1223437      0    0   \n",
       "1223446     1223446      0    0   \n",
       "1223623     1223623      0    0   \n",
       "\n",
       "                                                      text  publication_id  \\\n",
       "0                     haha you guys are a bunch of losers.               2   \n",
       "32       I want to see what happens to spammy comments ...             111   \n",
       "299      OH GREAT ANOTHER PERSON MOVING TO LA TO RUIN T...               6   \n",
       "452      Perhaps you should spell check, prior to posti...               6   \n",
       "458      Re: \"In Portland, a group of boaters actually ...               6   \n",
       "...                                                    ...             ...   \n",
       "1223426  Illegal immigrant praised by anti immigrant co...              21   \n",
       "1223433  Our military and their families love our First...              21   \n",
       "1223437  However, when Trudeau aired our dirty laundry ...              54   \n",
       "1223446                   ....said the liberal bootlicker.             102   \n",
       "1223623  You mean like the peace in Rwanda, where the b...             105   \n",
       "\n",
       "         rating  article_id       id  sad  disagree  likes  parent_id  \\\n",
       "0             0        2006    59856    0         0      1        0.0   \n",
       "32            0       32846   240408    0         0      1        0.0   \n",
       "299           0       33231   240652    0         0      1        0.0   \n",
       "452           0       34427   241085    0         0      1        1.0   \n",
       "458           0       34877   241107    0         0      1        0.0   \n",
       "...         ...         ...      ...  ...       ...    ...        ...   \n",
       "1223426       0      399447  6332176    0         2      0        0.0   \n",
       "1223433       0      399447  6332200    0         0      1        0.0   \n",
       "1223437       0      399437  6332210    1         2      5        1.0   \n",
       "1223446       0      399436  6332242    0         0      1        1.0   \n",
       "1223623       0      399250  6332875    0         0      2        1.0   \n",
       "\n",
       "            created  created_time  \n",
       "0        2015-09-29            10  \n",
       "32       2015-09-29            19  \n",
       "299      2016-01-22            21  \n",
       "452      2016-01-28            17  \n",
       "458      2016-01-28            20  \n",
       "...             ...           ...  \n",
       "1223426  2017-11-10            20  \n",
       "1223433  2017-11-10            20  \n",
       "1223437  2017-11-10            20  \n",
       "1223446  2017-11-10            20  \n",
       "1223623  2017-11-10            21  \n",
       "\n",
       "[27196 rows x 14 columns]"
      ]
     },
     "execution_count": 84,
     "metadata": {},
     "output_type": "execute_result"
    }
   ],
   "source": [
    "comments_df[comments_df.rating == 0]\n"
   ]
  },
  {
   "cell_type": "code",
   "execution_count": 79,
   "metadata": {},
   "outputs": [
    {
     "data": {
      "text/plain": [
       "(array([91708.,     0., 64189.,     0., 46928.,     0., 35136.,     0.,\n",
       "        26779., 20506.]),\n",
       " array([4. , 4.5, 5. , 5.5, 6. , 6.5, 7. , 7.5, 8. , 8.5, 9. ]),\n",
       " <a list of 10 Patch objects>)"
      ]
     },
     "execution_count": 79,
     "metadata": {},
     "output_type": "execute_result"
    },
    {
     "data": {
      "image/png": "[encoded data removed]",
      "text/plain": [
       "<Figure size 432x288 with 1 Axes>"
      ]
     },
     "metadata": {
      "needs_background": "light"
     },
     "output_type": "display_data"
    }
   ],
   "source": [
    "comments_df[comments_df.likes>= 4].likes.describe()\n",
    "plt.hist(comments_df[(comments_df.likes>= 4) & (comments_df.likes<10)].likes)\n"
   ]
  },
  {
   "cell_type": "code",
   "execution_count": 65,
   "metadata": {},
   "outputs": [
    {
     "data": {
      "text/html": [
       "<div>\n",
       "<style scoped>\n",
       "    .dataframe tbody tr th:only-of-type {\n",
       "        vertical-align: middle;\n",
       "    }\n",
       "\n",
       "    .dataframe tbody tr th {\n",
       "        vertical-align: top;\n",
       "    }\n",
       "\n",
       "    .dataframe thead th {\n",
       "        text-align: right;\n",
       "    }\n",
       "</style>\n",
       "<table border=\"1\" class=\"dataframe\">\n",
       "  <thead>\n",
       "    <tr style=\"text-align: right;\">\n",
       "      <th></th>\n",
       "      <th>funny</th>\n",
       "      <th>wow</th>\n",
       "      <th>text</th>\n",
       "      <th>publication_id</th>\n",
       "      <th>rating</th>\n",
       "      <th>article_id</th>\n",
       "      <th>id</th>\n",
       "      <th>sad</th>\n",
       "      <th>disagree</th>\n",
       "      <th>likes</th>\n",
       "      <th>parent_id</th>\n",
       "      <th>created</th>\n",
       "      <th>created_time</th>\n",
       "    </tr>\n",
       "  </thead>\n",
       "  <tbody>\n",
       "  </tbody>\n",
       "</table>\n",
       "</div>"
      ],
      "text/plain": [
       "Empty DataFrame\n",
       "Columns: [funny, wow, text, publication_id, rating, article_id, id, sad, disagree, likes, parent_id, created, created_time]\n",
       "Index: []"
      ]
     },
     "execution_count": 65,
     "metadata": {},
     "output_type": "execute_result"
    }
   ],
   "source": []
  },
  {
   "cell_type": "code",
   "execution_count": 80,
   "metadata": {},
   "outputs": [
    {
     "data": {
      "text/html": [
       "<div>\n",
       "<style scoped>\n",
       "    .dataframe tbody tr th:only-of-type {\n",
       "        vertical-align: middle;\n",
       "    }\n",
       "\n",
       "    .dataframe tbody tr th {\n",
       "        vertical-align: top;\n",
       "    }\n",
       "\n",
       "    .dataframe thead th {\n",
       "        text-align: right;\n",
       "    }\n",
       "</style>\n",
       "<table border=\"1\" class=\"dataframe\">\n",
       "  <thead>\n",
       "    <tr style=\"text-align: right;\">\n",
       "      <th></th>\n",
       "      <th>Unnamed: 0</th>\n",
       "      <th>funny</th>\n",
       "      <th>wow</th>\n",
       "      <th>text</th>\n",
       "      <th>publication_id</th>\n",
       "      <th>rating</th>\n",
       "      <th>article_id</th>\n",
       "      <th>id</th>\n",
       "      <th>sad</th>\n",
       "      <th>disagree</th>\n",
       "      <th>likes</th>\n",
       "      <th>parent_id</th>\n",
       "      <th>created</th>\n",
       "      <th>created_time</th>\n",
       "    </tr>\n",
       "  </thead>\n",
       "  <tbody>\n",
       "    <tr>\n",
       "      <th>0</th>\n",
       "      <td>0</td>\n",
       "      <td>0</td>\n",
       "      <td>0</td>\n",
       "      <td>haha you guys are a bunch of losers.</td>\n",
       "      <td>2</td>\n",
       "      <td>0</td>\n",
       "      <td>2006</td>\n",
       "      <td>59856</td>\n",
       "      <td>0</td>\n",
       "      <td>0</td>\n",
       "      <td>1</td>\n",
       "      <td>0.0</td>\n",
       "      <td>2015-09-29</td>\n",
       "      <td>10</td>\n",
       "    </tr>\n",
       "    <tr>\n",
       "      <th>1</th>\n",
       "      <td>1</td>\n",
       "      <td>0</td>\n",
       "      <td>0</td>\n",
       "      <td>How can the author claim that Star Wars is bet...</td>\n",
       "      <td>22</td>\n",
       "      <td>1</td>\n",
       "      <td>59527</td>\n",
       "      <td>282338</td>\n",
       "      <td>0</td>\n",
       "      <td>0</td>\n",
       "      <td>1</td>\n",
       "      <td>0.0</td>\n",
       "      <td>2015-09-29</td>\n",
       "      <td>16</td>\n",
       "    </tr>\n",
       "    <tr>\n",
       "      <th>2</th>\n",
       "      <td>2</td>\n",
       "      <td>0</td>\n",
       "      <td>0</td>\n",
       "      <td>I agree 100% with everything here. Bruce Campb...</td>\n",
       "      <td>111</td>\n",
       "      <td>1</td>\n",
       "      <td>32846</td>\n",
       "      <td>240372</td>\n",
       "      <td>0</td>\n",
       "      <td>0</td>\n",
       "      <td>1</td>\n",
       "      <td>0.0</td>\n",
       "      <td>2015-09-29</td>\n",
       "      <td>16</td>\n",
       "    </tr>\n",
       "    <tr>\n",
       "      <th>3</th>\n",
       "      <td>3</td>\n",
       "      <td>0</td>\n",
       "      <td>0</td>\n",
       "      <td>While I disagree about \"The Phantom Menace,\" t...</td>\n",
       "      <td>111</td>\n",
       "      <td>1</td>\n",
       "      <td>32846</td>\n",
       "      <td>240387</td>\n",
       "      <td>0</td>\n",
       "      <td>0</td>\n",
       "      <td>1</td>\n",
       "      <td>0.0</td>\n",
       "      <td>2015-09-29</td>\n",
       "      <td>16</td>\n",
       "    </tr>\n",
       "    <tr>\n",
       "      <th>4</th>\n",
       "      <td>4</td>\n",
       "      <td>0</td>\n",
       "      <td>0</td>\n",
       "      <td>I agree, but only 99%.</td>\n",
       "      <td>111</td>\n",
       "      <td>1</td>\n",
       "      <td>32846</td>\n",
       "      <td>240373</td>\n",
       "      <td>0</td>\n",
       "      <td>0</td>\n",
       "      <td>1</td>\n",
       "      <td>1.0</td>\n",
       "      <td>2015-09-29</td>\n",
       "      <td>16</td>\n",
       "    </tr>\n",
       "    <tr>\n",
       "      <th>...</th>\n",
       "      <td>...</td>\n",
       "      <td>...</td>\n",
       "      <td>...</td>\n",
       "      <td>...</td>\n",
       "      <td>...</td>\n",
       "      <td>...</td>\n",
       "      <td>...</td>\n",
       "      <td>...</td>\n",
       "      <td>...</td>\n",
       "      <td>...</td>\n",
       "      <td>...</td>\n",
       "      <td>...</td>\n",
       "      <td>...</td>\n",
       "      <td>...</td>\n",
       "    </tr>\n",
       "    <tr>\n",
       "      <th>1223653</th>\n",
       "      <td>1223653</td>\n",
       "      <td>0</td>\n",
       "      <td>0</td>\n",
       "      <td>Marijuana is not medicine, but is an effective...</td>\n",
       "      <td>54</td>\n",
       "      <td>1</td>\n",
       "      <td>399451</td>\n",
       "      <td>6333022</td>\n",
       "      <td>0</td>\n",
       "      <td>0</td>\n",
       "      <td>1</td>\n",
       "      <td>0.0</td>\n",
       "      <td>2017-11-10</td>\n",
       "      <td>22</td>\n",
       "    </tr>\n",
       "    <tr>\n",
       "      <th>1223654</th>\n",
       "      <td>1223654</td>\n",
       "      <td>0</td>\n",
       "      <td>0</td>\n",
       "      <td>And another major reason for the deficits: 200...</td>\n",
       "      <td>54</td>\n",
       "      <td>1</td>\n",
       "      <td>399385</td>\n",
       "      <td>6333031</td>\n",
       "      <td>0</td>\n",
       "      <td>0</td>\n",
       "      <td>2</td>\n",
       "      <td>1.0</td>\n",
       "      <td>2017-11-10</td>\n",
       "      <td>22</td>\n",
       "    </tr>\n",
       "    <tr>\n",
       "      <th>1223655</th>\n",
       "      <td>1223655</td>\n",
       "      <td>1</td>\n",
       "      <td>0</td>\n",
       "      <td>Man, I was thinking about becoming a stoner, b...</td>\n",
       "      <td>54</td>\n",
       "      <td>1</td>\n",
       "      <td>399451</td>\n",
       "      <td>6333040</td>\n",
       "      <td>0</td>\n",
       "      <td>0</td>\n",
       "      <td>0</td>\n",
       "      <td>1.0</td>\n",
       "      <td>2017-11-10</td>\n",
       "      <td>22</td>\n",
       "    </tr>\n",
       "    <tr>\n",
       "      <th>1223656</th>\n",
       "      <td>1223656</td>\n",
       "      <td>0</td>\n",
       "      <td>0</td>\n",
       "      <td>Sounds like you have a cushy government pension.</td>\n",
       "      <td>54</td>\n",
       "      <td>1</td>\n",
       "      <td>399385</td>\n",
       "      <td>6333055</td>\n",
       "      <td>0</td>\n",
       "      <td>0</td>\n",
       "      <td>1</td>\n",
       "      <td>1.0</td>\n",
       "      <td>2017-11-10</td>\n",
       "      <td>22</td>\n",
       "    </tr>\n",
       "    <tr>\n",
       "      <th>1223657</th>\n",
       "      <td>1223657</td>\n",
       "      <td>0</td>\n",
       "      <td>0</td>\n",
       "      <td>Secrecy is an internal component of the TPP. E...</td>\n",
       "      <td>54</td>\n",
       "      <td>1</td>\n",
       "      <td>399437</td>\n",
       "      <td>6333090</td>\n",
       "      <td>0</td>\n",
       "      <td>0</td>\n",
       "      <td>1</td>\n",
       "      <td>1.0</td>\n",
       "      <td>2017-11-10</td>\n",
       "      <td>22</td>\n",
       "    </tr>\n",
       "  </tbody>\n",
       "</table>\n",
       "<p>1223658 rows × 14 columns</p>\n",
       "</div>"
      ],
      "text/plain": [
       "         Unnamed: 0  funny  wow  \\\n",
       "0                 0      0    0   \n",
       "1                 1      0    0   \n",
       "2                 2      0    0   \n",
       "3                 3      0    0   \n",
       "4                 4      0    0   \n",
       "...             ...    ...  ...   \n",
       "1223653     1223653      0    0   \n",
       "1223654     1223654      0    0   \n",
       "1223655     1223655      1    0   \n",
       "1223656     1223656      0    0   \n",
       "1223657     1223657      0    0   \n",
       "\n",
       "                                                      text  publication_id  \\\n",
       "0                     haha you guys are a bunch of losers.               2   \n",
       "1        How can the author claim that Star Wars is bet...              22   \n",
       "2        I agree 100% with everything here. Bruce Campb...             111   \n",
       "3        While I disagree about \"The Phantom Menace,\" t...             111   \n",
       "4                                   I agree, but only 99%.             111   \n",
       "...                                                    ...             ...   \n",
       "1223653  Marijuana is not medicine, but is an effective...              54   \n",
       "1223654  And another major reason for the deficits: 200...              54   \n",
       "1223655  Man, I was thinking about becoming a stoner, b...              54   \n",
       "1223656   Sounds like you have a cushy government pension.              54   \n",
       "1223657  Secrecy is an internal component of the TPP. E...              54   \n",
       "\n",
       "         rating  article_id       id  sad  disagree  likes  parent_id  \\\n",
       "0             0        2006    59856    0         0      1        0.0   \n",
       "1             1       59527   282338    0         0      1        0.0   \n",
       "2             1       32846   240372    0         0      1        0.0   \n",
       "3             1       32846   240387    0         0      1        0.0   \n",
       "4             1       32846   240373    0         0      1        1.0   \n",
       "...         ...         ...      ...  ...       ...    ...        ...   \n",
       "1223653       1      399451  6333022    0         0      1        0.0   \n",
       "1223654       1      399385  6333031    0         0      2        1.0   \n",
       "1223655       1      399451  6333040    0         0      0        1.0   \n",
       "1223656       1      399385  6333055    0         0      1        1.0   \n",
       "1223657       1      399437  6333090    0         0      1        1.0   \n",
       "\n",
       "            created  created_time  \n",
       "0        2015-09-29            10  \n",
       "1        2015-09-29            16  \n",
       "2        2015-09-29            16  \n",
       "3        2015-09-29            16  \n",
       "4        2015-09-29            16  \n",
       "...             ...           ...  \n",
       "1223653  2017-11-10            22  \n",
       "1223654  2017-11-10            22  \n",
       "1223655  2017-11-10            22  \n",
       "1223656  2017-11-10            22  \n",
       "1223657  2017-11-10            22  \n",
       "\n",
       "[1223658 rows x 14 columns]"
      ]
     },
     "execution_count": 80,
     "metadata": {},
     "output_type": "execute_result"
    }
   ],
   "source": []
  },
  {
   "cell_type": "code",
   "execution_count": 54,
   "metadata": {},
   "outputs": [],
   "source": [
    "# comments_df.to_csv('../cleaned_comments.csv', index = False)"
   ]
  },
  {
   "cell_type": "code",
   "execution_count": 3,
   "metadata": {},
   "outputs": [],
   "source": [
    "sample_df= comments_df.sample(frac=1/15, random_state=1)\n"
   ]
  },
  {
   "cell_type": "code",
   "execution_count": 4,
   "metadata": {},
   "outputs": [],
   "source": [
    "sample_df.drop('Unnamed: 0', axis = 1, inplace = True)"
   ]
  },
  {
   "cell_type": "code",
   "execution_count": 7,
   "metadata": {},
   "outputs": [
    {
     "data": {
      "text/plain": [
       "173"
      ]
     },
     "execution_count": 7,
     "metadata": {},
     "output_type": "execute_result"
    }
   ],
   "source": [
    "sample_df.likes.max()"
   ]
  },
  {
   "cell_type": "code",
   "execution_count": null,
   "metadata": {},
   "outputs": [],
   "source": [
    "# pd.get_dummies(sample_df, prefix='created', drop_first = True)"
   ]
  },
  {
   "cell_type": "code",
   "execution_count": 14,
   "metadata": {
    "collapsed": true
   },
   "outputs": [
    {
     "data": {
      "text/plain": [
       "array([\"Yes it must be a massive conspiracy.  Or it could just be that Trump's lifetime of BS has finally caught up with him.\",\n",
       "       'The handful of posters who keep tying themselves into intellectual knots to defend Donald Trump seem to be ignoring one simple reality. Ultimately this comes down to who do you believe.  So who do you believe - a man who is the former head of the FBI and a former federal prosecutor or a serial liar with a long, proven history of telling fantastic, self-serving stories. If I had to put money on which one of these people will ultimately prevail I think the choice is rather obvious.',\n",
       "       'It is very troubling that the Supreme Court of Canada now bases its decisions on \"social media\" noise.\\n\\nIs this how cases are to be decided henceforth?\\n\\nIf a Twitter mob can override a SCC decision, and if the SCC can over ride the will of an elected parliament, then going forward we will live under Twitter mobs as the law of the land.\\n\\nIs this what Canadians want?',\n",
       "       \"Actually, Chuck is exactly right - we have an open society that they should be adopting.  That's the reason they came here!\",\n",
       "       \"Like religious zealots who desert their families in pursuit of the greater good, the environmental fundamentalists, convinced of the nobility of their cause, demonstrate a cavalier disregard for the collateral damage  they cause in terms of good paying jobs for hard working people. As anyone who's tried,  reasoning with the truly devout devotee is fruitless.\",\n",
       "       'a child soldier is 14 according to the UN our little terrorist was almost 16.',\n",
       "       'The optics is terrible for Justin Trudeau and the Liberals. There is a judicial process in play, and instead of waiting for the outcome, the Trudeau government blinked. Any selfies with Omar?',\n",
       "       'Defending a SJW narrative on grounds of free speech seems very ironic in today\\'s supercharged politically correct environment where it\\'s become commonplace to advocate for (further) limiting free speech. When reading about this particular controversy the other day I  thought of Mahatma Gandhi, who said \"It is unwise to be too sure of one\\'s own wisdom.\" Perhaps it\\'s a mantra that should be adopted by all who consider the pursuit of objectivity worthwhile, and particularly so in academia.',\n",
       "       'Protesting democracy and perpetuating anger and hate that you lost an election to the other guy, are frightening notions to instill in a young mind.',\n",
       "       'He has hit the nail firmly on the head. Windmills and solar panels may have a place for perhaps peak energy but the cost of production is very high. The only technology today that can replace fossil fuel base load is nuclear. Just look at the economic havoc in the electricity industry in Ontario that people who think like you have caused.',\n",
       "       \"Islam is not a race. It's a political and social ideology.   It should be treated as such, and there should be public debate about the ideas espoused by this ideology, and their place in the 21st century in Canada.\",\n",
       "       'Eliminating tax credits means raising taxes. Revenue tools are taxes. No one is better at spending other people\\'s money than smug leftwing idealists in the Federal Liberals.  Trudeau is a naive idealist who grew up with a silver spoon completely disconnected from the economic realities facing most Canadian families. The Federal Liberals ignorantly believe they are better at spending taxpayer money than the people who actually earn it, they support big government, waste, and leftwing social experiments that waste money and yield nothing in return. Sunny ways, because it\\'s 2016, #whatwouldJustindo, good for you Canada! And the government will run exclusively on \"green\" energy by 2025, because wind and solar have done wonders for Ontario... good for you Toronto, you deserve each other.',\n",
       "       'This latest episode is a symptom of everything that is wrong with the Trudeau government in terms of championing policies of short-sighted symbolic puffery over common sense. There is nothing of substance in the Trudeau government, it\\'s all hashtags and feel good naivety that puts the rights of illegal migrants before Canadians. There are currently 40,000 \"asylum seekers\" in Canada who entered the country illegally in an attempt to game the immigration system - so far the Haitians have about 50% success rate. Each migrant is entitled to a full suite of free government services in including $643/month in welfare alone - that\\'s just under $26 million a month or $300 million year in taxpayer support for illegal migrants. \\nThe sad part is, Trudeau would get another majority if there were an election held today. Canadians deserve what comes next.',\n",
       "       'The Liberals are feeling the heat in a big way on this latest tax grab.\\n\\nLiterally millions of Canadian small business owners and professionals will be furious with Trudeau for this hasty and misguided attempt at \"fairness\". And …they will be sure to vote in the next election, as will their families, employees and friends.\\n\\nBeing able to govern for all Canadians is the mark of a good PM - pitting one segment of society against another is pandering to our lowest instincts.',\n",
       "       'The most egregious announcement was that Trump has decided “that he is going to voluntarily donate all profits from foreign government payments made to his hotels to the United States Treasury. This way it is the American people who will profit.” Trump is simply setting up a funnel for foreign government donations to the government. Since that funnel runs through his hotel, it boosts the brand value of his hotel and, thus, Trump. It doesn’t prevent diplomats from choosing to stay in his hotel to curry favor with him. It will still flatter him, because he flatters easily. Also, we will never know if he even donates the money, because he doesn’t provide proper accounting documentation for anything, and it’s not clear how “foreign government payments” would be separately accounted for anyway. It’s a joke idea that does nothing and is stupid, and people will applaud it. This is a recurring theme in his life, which is unfortunately now ours, too.',\n",
       "       'Andrew states in this editorial that the middle class have more money in their pockets.  I consider myself middle class and I definitely don\\'t have more money in my pockets.  The Federal Gov\\'t and the Ontario Gov\\'t have perfected the \"give with one hand and take even more out with the other hand\" move.',\n",
       "       'Do you realize that, regardless of your point of view, Gov. Walker actually DID something?  The Legislature has only itself to blame ... and I choose to blame it, and not the governor, whose hand was forced by legislators who could have / should have produced \"something\" in this session and the first \"overtime.\"  \\n\\nFurthermore, he did something that was not politically self-serving.  He may incur the wrath of voters for this and either be recalled (silly) or not re-elected.  He knows that, and is willing to stand up for what he believes is a solution (or a step in that direction).  How many of our legislators are willing to put principle over re-election?\\n\\nI don\\'t have to like the governor\\'s solution to admire him for not doing what is politically expedient, but, rather, to put his reputation on the line for something he believes in.',\n",
       "       'OTTAWA -- Federal numbers released quietly by the Trudeau government recently are painting a bleak picture of Canada\\'s future -- one filled with decades of deficits. The report, published on the Finance Department website , predicts that, barring any policy changes, the federal government could be on track to run annual shortfalls until at least 2050-51. If such a scenario plays out, the document says the federal debt could climb past $1.55 trillion by that same year -- more than double its current level. - \\n-\\n\"Possibly\" balanced by 2051.... - with an accumulated debt of $1.5 TRILLION...???? - - \\n-\\nbalanced by 2051 perhaps.. - but only if the Conservatives get back in it would seem... - \\n-\\nThe current occupant of 24 Sussex has no idea of budgeting as a trust fund baby he has never needed to work and , as his taxable income has always been meager - he doesn\\'t understand the pain inflicted by his punitive tax hikes upon the educated -\\n-\\nOverall grade         \"F\"  \\n-\\nI miss Mr Harper',\n",
       "       'Canada and Trudeau - the height of hypocrisy\\n\\nre: Justin \"also saw “extraordinary opportunities” for Canada if the United States takes a step back from tackling climate change.\"\\n\\nso on one hand we are gleeful in relying on another country abandoning tackling climate change as it will provide us economic opportunities while on the other hand we are ready to punish Joe middle class Canadian with higher energy costs so we can tackle climate change   \\n\\nwhat a leader, what a country',\n",
       "       'I completely agree with this columnist. Rob Ford does not deserve his name on any public building in Toronto. He was an embarrassment both as a councillor and Mayor! He achieved hardly anything except for grabbing headlines. I would think the last thing a City like Toronto needs on a building/park is a name and reminder of the Ford soap opera.',\n",
       "       '...\" saying something which would offend a wide swath of the population.\"   If she offended a wide swath of the population then I\\'ve lived in the wrong country for 66 years. Are most Canadians climate change deniers, History Deniers ( Creationists ) and fake medicine takers?  I think those groups might take in about 20% of the population, and it\\'s about time they stopped getting coddled and sucked up to by every politician after a vote.',\n",
       "       'There is an error in the story - where it says that Mike Hawker \"represents the Anchorage Hillside.\" It should say that Mike Hawker was elected to represent the Anchorage Hillside. He obviously doesn\\'t actually represent his constituents. Likewise, many other legislators in the majority party don\\'t represent their constituents either.',\n",
       "       \"Just when you think people's skin can't get any thinner.  Stupid comment, yes.  Basis for destroying career?  Really?\\n\\nOur universities are the home for some really pathetic sheltered people.\",\n",
       "       'It\\'s incredible that most of the media still don\\'t understand what used to be the Silent Majority. We\\'re not Xenophobes - with an \"irrational fear of people from other countries\". We\\'re not Islamophobes with an \"irrational fear of Muslims\". We\\'re just a bunch of everyday citizens going to work every day - who want immigration to be intelligently done - take people from anywhere who want to embrace the ideals of Canada or the US - at rates that our countries can absorb - with skills or potential that we need. With regards to refugees - again - they have to want to embrace our ideals and WE have to provide them with funded processes that can shepherd their integration into general society - not create ghettoes of disenfranchised groups. Here in Canada, the government funds support for refugees for one year -- we need to do MORE. Our Silent Majority is now more vocal - it\\'s screaming. The Establishment didn\\'t listen - and not they are paying the price.',\n",
       "       \"Goes to show you yesterday's statement read from a teleprompter was a sham.\",\n",
       "       'Canadians can only hope that Morneau doesn\\'t next target the \"dead money\" in their RRSP\\'s.',\n",
       "       'Good. These settlements are illegal and should be dismantled.',\n",
       "       'According to the Globe, political correctness is more important than critical analysis #becauseit\\'s2017. The Federal Liberals appeasement of political Islamism is concerning, especially when considering the state of civil society in every country in the world (without exception) \"governed\" by Islamic law - no gender equality, no freedom of expression, \"blasphemy\" and \"apostasy\" laws, and women forced to cover their hair under the threat of assault or worse from \"morality\" police. \\nOne of the most concerning aspects of political Islam is that male authority demands submission from women under the guise of religious piety and modesty - Islamic reformers have rejected this outright but the Globe would rather show deference to political Islamists than rock the boat with Tarek Fatah. \\nWhy the silence and appeasement of Islamists from western feminists? Women in Iran are clubbed for \"immodesty\" in Iran and homosexuals face death if they are outed in Islamic countries.',\n",
       "       'In a post-truth environment, false perceptions can hurt us all ?\\n\\n Muslims have been practicing taqiyya for centuries.',\n",
       "       \"All easily said, all with zero evidence to back it up. I saw an interview with the renowned lawyer Allan Dershowitz on CNN a short time ago. They asked him if antisemitism had risen due to Trump, and his reply was that in his experience, antisemitism mostly occurs on the left of the political spectrum these days, among social justice warriors and the 'anti-Zionist' set. There's no doubt there IS extremism on the far right, but those people are largely outsiders, barred from politics and academia, to say nothing of media, at least in Canada. Meanwhile, the far left thrives in academia, and are deeply involved in politics and media. As such, their threat is much more real.\",\n",
       "       'While it is true that Trudeau and Trump are at odds on most issues as well as style, Canadians should remember that Trump was elected by millions of American who rejected the very policies that Obama, Clinton and the left represent. They rejected these policies because they have not worked. Trudeau and the Liberals are making the same mistakes and Canadians will also learn the hard way.',\n",
       "       \"Okay. \\n\\nDonald Trump is a shallow, narcissistic, petty, entitled, reprehensible human being born with a silver spoon in his mouth who has no understanding of average Americans and who is using racism and bigotry in an attempt to win the presidency. He has degraded the election process and the precedents he's set for how a presidential candidate should act will likely haunt us for generation.\\n\\nHis personal actions fly in the face of every value Republicans have claimed to hold dear. He's a philanderer. He's been divorced several times. He avoided military service. He's insulted veterans. He's not a Christian. He mocks handicapped people, judges, and women. He openly admires the dictatorial leaders of our enemies. \\n\\nThe only good to come out of this terrible situation is that Americans can now see the massive hypocrisy of Republicans. All their talk of values is just BS designed to appeal to gullible voters. \\n\\nFrankly, I'm embarrassed for you guys...\",\n",
       "       'They told police that \"four cars drove by and wouldn\\'t stop to help them.\" \\nThat’s sad and disgusting. How could anyone do such a thing is just about beyond comprehension.',\n",
       "       'Would pediatric surgeon be considered an elite occupation?',\n",
       "       '\"Canadians have no use for dictators. \"\\n\\nSpeak for yourself.\\n\\nNot all Canadians are clueless lefties that seriously believe that PMLP could play hard ball with POTUS potato masher in a trade war.\\n\\nCanada has as much of a chance in a trade war as it does in a real war with the US.\\n\\nBTW, why do your kind constantly need to be reminded that Trump was democratically elected?\\n\\n Just because you didn\\'t like the election result, doesn\\'t make him a dictator.....',\n",
       "       \"I voted for Justin but is is very clear I made a mistake as he and Morneau and his close advisors are all trust fund baby's and far removed from real Canadians.\\n\\nHe and his cohorts cannot understand the concerns of Canadians who have to work and pay taxes not benefiting from what he and his friends do which is to shelter their money in corporations.\\n\\nIf he actually ever had to work to pay bills and support himself I think he would understand the issue and costs of this what I consider illegal flow of refugees from safe countries.\",\n",
       "       '\"I’m not sure what that does -- I haven’t thought that far,....\" \\n\\nMay I suggest that quote become a slogan for the current Alaska State House Majority.',\n",
       "       'There is a ruling in US courts against Khadr for $US 134 million. Let\\'s hope Khadr doesn\\'t see a dime. What\\'s even more pathetic is the sympathy from self-titled \"progressive\" Canadians in support of a Taliban terrorist. Khadr has admitted that he recalls his memories of playing terrorist in Afghanistan with fondness, he was video taped building IED\\'s - the same IED\\'s used to kill Canadian soldiers. The entire Khadr family is a shameless disgrace and their continued presence in the country is a stain on the nation. Khadr\\'s welfare-collecting sorry excuse of a mother told the CBC she took pleasure in hearing of Canadian soldiers being killed in Afghanistan. In the context of what the Taliban represents, this decision is inexcusable and unforgivable - the government has just spat in the face of every Canadian soldier who served in Afghanistan. The entire Khadr family should be deported to Pakistan - \"Canadians\" of convenience. Anyone who supports Khadr is an embarrassment to Canada.',\n",
       "       'He has a global agenda that is not in the best interests of the average Canadian\\nHis arrogance will likely grow to the same level of that of his father.\\nLook out Canada!',\n",
       "       \"I'm sorry, I usually agree with you.  These women, for the most part, have been brainwashed by their families, husbands, imams, and their society.  They live under 6th century delusion.\",\n",
       "       \"If any of the intelligence agencies were tapping Trump's phones it likely had to do with investigations into Russian interference in the election.\",\n",
       "       'Would it kill The Globe to actually include a picture of the design?  Bizarre.',\n",
       "       'Good job Ben.  Finally someone speaks out against this obscene waste of money.  All our current elected officials should all be removed from office.',\n",
       "       'Like that is going to happen.',\n",
       "       \"Dear Conservatives: Who are you? \\n\\nMy answer is that if you are a party that is hellbent on having Kevin O'Leary become the next leader, then you are a party which I won't even consider voting for.  I'm fed up with know-nothing blowhards thinking they know how to run things better simply because they've gained some semblance of fame or infamy through reality TV.\\n\\nPlease select somebody who knows something about running a country, as we don't need this US style of mean-spirited divisiveness to stretch north of the US border.\",\n",
       "       \"MIA Justin Trudeau.  Where is the Prime Minster of Canada.  Illegals are quadrupling in numbers, and NAFTA negotiations are starting and the boy is nowhere to be found.  I guess he doesn't want his vacation time ruined by actual very important Canadian issues.\",\n",
       "       \"Surely Trudeau cannot be that naive. There is way more to this story. Keep digging into the long-time relationship between the Trudeaus, their friends, and China.Canadians need to wake up fast to what is going on. Why is Trudeau so enamoured with China?\\n\\nDon't think that Trump won't take notice of what is going on between Trudeau and China.\",\n",
       "       'I wonder if Trudeau included the immigration class that just enters illegally to successfully game the system under the guise of claiming asylum. There is a 70% acceptance rate of illegal migrants pretending to by asylum seekers so it\\'s hard to blame them for crossing illegally, they have an incentive to break the law with absolutely nothing to lose and everything to gain (including a Canadian passport). The US should be putting up billboards in southern border towns: Free Health Care and Monthly Allowance in CANADA, Anyone Can Enter - Most Can Stay! Everyone Stays for at least 16 MONTHS! (Include picture of RCMP officer carrying luggage while an \"asylum seeker\" talks on his new iphone). Good for you Canada! You\\'re so hashtag progressive!',\n",
       "       \"And so it starts, without, of course, talking to the experts.  This is the monkey out of the cage president.  He may get jobs back  the USA but the workers won't be able to buy the cars on their low Salaries.  This is the ugly face of capitalism and self aggrandissment on a big scale.  Trump has spent a life time screwing workers, why would he stop now.\",\n",
       "       'She has disrespected Canadians by doing the same thing as Trudeau and then calling Trudeau out on it as she kept her free days in the sun quiet. Is that a leader we can trust?, not I.',\n",
       "       'I am well to the left of Trudeau but he did very well on this trip.  He did no harm.  He did nothing dishonourable.  He received some assurances that were comforting to many people who have much more at stake in this game than the author does.  \\n\\nThe Conservatives were also a class act for the first time in a long time in endorsing his trip.',\n",
       "       'These sorts of gestures are amazingly counter-productive.  If Indigenous people want to take their rightful place in society they would do well to work within it rather than against it.  \\n\\nI understand that there were centuries of wrongs perpetrated.  But time runs backward for no man.  My own feeling is that progress has been made, and protests such as this are more inclined to sour public opinion than cement it.',\n",
       "       'Wente barely touches the tip of the iceberg, the issues in the Netherlands started about 15 years ago with the assassination of Pim Fortuyn (an open homosexual who rejected the far right but was vocal in his concerns about political Islam and integration). Then there was Theo van Gogh, a Dutch filmmaker who was assassinated in 2004 while riding his bike by Islamist terrorists who objected to his documentary \"Submission\" (written by the secular activist Ayaan Hirsi Ali). No, these issues are not new but the mainstream media has ignored the societal regression in western Europe over the last 15 years out of a misguided duty to political correctness and this has only made the situation worse. Political correctness has real impacts, just google the depressing story on Rotherham in the UK. Western Europe needs to have an honest discussion about integration if they want to stop the trend of societal regression because no-go zones are not a rightwing conspiracy theory, they are very real.',\n",
       "       \"A true sleaze. He has used loopholes to shelter the Trudeau fortune (from a prime minister's wage?) and continues to ensure his money is sheltered while going after the most productive portion of our economy. Just like throwing around billions of your and mine tax money and travelling the world when he is supposed to be a Prime minister.\\nThank you people, for voting these clowns in.\",\n",
       "       'Another great, hit-the-nail-on-the-head article - Margaret.\\n\\n\"In other words, the Dutch have not suddenly turned into a country of racists and xenophobes. The problem is that a significant number of immigrants have failed to integrate successfully into Dutch life. Turks and Moroccans have significantly higher unemployment and welfare rates than the general population, and young Moroccan men are disproportionately involved in crime. This is the frustration that Mr. Wilders has tapped into.\"\\n\\nUnfortunately, our Canadian politicians either fail to see or don\\'t want to see (for sake of losing the lefts\\' votes) what has been happening elsewhere in the world!\\n\\nSo sad - you would think that Canadian politicians would put Canada first.',\n",
       "       \"Mr Trudeau asks those illegally entering Canada to follow the rules.  That's his way of securing the border.  Incredible.\",\n",
       "       \"Russia's invasion of Ukraine was unacceptable.\\nRussian annexation and continued occupation of Ukrainian land is unacceptable.\\nLatvia, a NATO partner, deserves protection from the awakened Russian bear. \\nCanada, a NATO, partner is simply fulfilling it's obligations to NATO.\",\n",
       "       'Trump and 50 million Americans appear to be more and more idiots every day. You just listen to those who voted for him-case in point the USA ambassador Nikki the other day. \"He is our president so he can do anything he wants (responding to Comey firing)\" . It appears that to many Republican voters President and God are about one and the same. Scary.',\n",
       "       \"Propaganda's getting thick. I need my political boots for this one.\\n\\nThe set-up for this budget has been awesome. The hints, and suggestions, and warm-fuzzies about all the goodies that we're all going to get! For free! Because government! First Gender-Based budget ever! Unicorns!\\n\\nNothing is free. Everything has a price. The government makes nothing, they only redistribute what they take from others. This sounds like we're going to take it in the teeth.\",\n",
       "       '\"Hours after B.C. announced its tax on foreign buyers this past summer, prominent developers e-mailed Premier Christy Clark and her government saying the policy amounted to a betrayal of Metro Vancouver’s international citizens\".\\n\\nThat\\'s funny, for so many years it has been the developers and other real estate industrialists who have been telling us over and over again that, no no no, it is not foreign money that is skyrocketing the house prices in Vancouver, no no no, it is domestic demand from local workers and believe us, any loudmouth who claims the buying is from overseas money from international citizens, well, those loudmouths are a bunch of racist, hateful, bigoted, xenophobic, delusional propagandists.\\n\\nMy, oh my, how plainly the deceit reveals itself, when one goes back and re-reads the first sentence of the article, about the subsequent e-mails of those real estate shills angrily responding to the new tax...',\n",
       "       \"I agree. Perhaps Trudeau's connection with Communist China should be investigated with the same fervor that Trump's alleged connection to Russia is being conducted. Given the mounting evidence that our PM may be peddling influence on behalf of the Liberal Party of Canada, such an investigation would definitely seem in order.\",\n",
       "       \"Great column. We all have to choose between right and wrong. We all have to choose between honesty and dishonesty. We all have to choose between light and darkness. Since Trump has arrived in the White House a great darkness has descended on America. Trump has legitimized racism in America. This man does not even respect democracy. Trump's love of dictators is a reflection of where he wants to take the US government. Challenging days lie ahead. Trump has fractured American society. The chasms that have opened will take both good will and intelligence to fix. Trump is not the one to accomplish the work that now needs so badly to be done.\",\n",
       "       \"I admit Trudeau's missteps as leader, but I've been very impressed with his government's reactions since Trump was elected.   I liked that he tweeted exactly how his government felt about immigrants and refugees;  I like that he revamped the cabinet to better fit with a new Trump world;  I like that we've run a charm/lobbying effort with American politicians to remind them of our mutual economic interests (of which Conservative MPs have been a part); and I like that he met a man he must certainly despise on some level, and said and did all the appropriate things - no mean feat. \\n\\nTrudeau will no doubt get blasted by some on this:  the Left will say he should have blasted Trump and stood up firmer for immigrants and mexico (and as Wente notes,  lost  a limb for his efforts); the Right will say he didn't get enough economic assurances, and they would have negotiated better (by standing up straighter and talking stronger I guess).\\n\\nBut Wente is right - he's done well on this one.\",\n",
       "       'If there is nothing to the story of connections between the Russian government and the Trump campaign, then why does Trump spend so much time trying to close the investigations of these allegations down? What is he trying to hide?',\n",
       "       \"No Leah, Trudeau picked the right strategy to protect Canadian interests. Its nice and all to sit in judgement but the fact is by reminding Trump Canada is the best export customer of 35 US states and  refocusing Trump elsewhere, he's given Canada a chance to escape a trade war. \\n-\\nHad Trudeau come out all Angry Tom on Trump you could set your watch to job losses, particularly around the Great Lakes area. \\n-\\nTrudeau's principles are at work in Canada and around the world, by the way, just ask 25,000 Syrian refugees.\",\n",
       "       'I have been divorced for 12 years. I initiated the divorce. We weren\\'t a good fit and my ex-wife was more interested in my \"resources\" and what they afforded her to do than being a contributing partner in our relationship. The divorce cost me about $40,000 and I have paid a total of $432,000 in child and spousal support during this time as she has remarried TWICE. When I initiated the split she told me she would take me for everything and continues to do so to this day. In the mean time I focused on living in my tiny house and trying to be the best dad to my kids. Both have completely pulled away from me in their teens because I have insisted on them going to school and having responsibilities. Their mother has been entirely hands off. She parties, rides her horses while I struggle to convince my kids to improve attendance at school, avoid weed, and work hard. They won\\'t listen. It\\'s been hell. Why would I want to go through this again?. It\\'s been financial devastation.',\n",
       "       \"You're absolutely right, but not just Alberta.   The only immune provinces are Quebec, Ontario and probably B.C.   The Liberal are such obviously and shameless homers.  PMT may have his principles just like Dalton McGuinty had his principles, but in the case both, those principles are for sale if enough votes are at stake.\",\n",
       "       \"It is really funny, and I don't mean in a ha, ha sort of way, that polls suggest this. I must hang in the wrong circles because I know no one that supports the carbon tax nor believes it will do anything to combat climate change.\",\n",
       "       '\"Auto Per Diem\" is right up there with the legislature exempting itself from State Open Meeting law and refusing to self police for any level of malfeasance or misfeasance among its members ( e.g. LIO contract fraud).  This situation  was perhaps best described by George Orwell  in his novel  \"Animal Farm\" when the Pigs justified their special status by explaining to the other animals that,while after the overthrow of the humans, all the animals on the farm were equal: \"some animals were more equal than others\".  If you vote for any current legislative  incumbent you are just asking for more of the same..........',\n",
       "       '\"In today\\'s letter they warn Brown that he must preserve all relevant documents, because if Wynne proceeds with a lawsuit he will be required to disclose them all.\"\\n\\nWhat an ironic thing for Wynne\\'s lawyers to assert, at a time when two former senior Liberal aides are standing trial on charges that they destroyed documents regarding the costly cancellation of two gas plants.',\n",
       "       'You and Trump seem to misunderstand to whom our Senators owe their loyalty.\\nAs well as how most Alaskans react to being threatened.',\n",
       "       'The principled Pierre Trudeau would never endorse such an amateur motion M-103. This is just another example of how amateur the Canadian Government has become under his Impulsive and manipulated son.',\n",
       "       '“The new Trump administration, most assuredly, will not be implementing a carbon tax,” Premier Wall said.\\n\\nAt least someone is paying attention to a decisive issue that none of the other dreamers want to acknowledge.',\n",
       "       'I don\\'t understand how \"feminists\" can square this circle...  We, as a civil society, have enacted laws against female genital mutilation, but some how women that are subjugated under men it is all about \"clothing choices\"?  Either you are for equal treatment for all, banning face coverings, or you seem to be perpetuating keeping a woman down, making her invisible, and under a man\\'s control.  And make no mistake, she is under a man\\'s control, how many single woman wear a face covering?  We all should at least try and join the Canadian family, instead of standing outside it.  Accommodation to something like this isn\\'t joining anything, just continuing the \"old ways\".  So why come here?  Isn\\'t it for a better \"Canadian\" life.  Religion or values are always sacrosanct in the home, but in the great open Canadian society we ALL have to \"accommodate\" each other and get along...I can\\'t do that if I can\\'t see you, or if you are not allowed to join me.',\n",
       "       \"The point is that  destroying jobs in Ontario is not going to save the planet in the slightest., assuming it does need saving.    Ontario's contribution to climate change is minuscule at most, compared to China, India and US   For that minuscule the Liberals are willing to impoverish Ontarians.\",\n",
       "       'White supremacist neoconservatives such as Amy Demboski should never believe that their ideology is normal. Resist at all costs and at all times.',\n",
       "       'Like father, like son; NEP - Part Deux.',\n",
       "       'The Atlantic run a series of articles on stigmatization. The premise of these articles was that it isn\\'t effective way to persuade, leads to backlashes, and results in a \"believer\" population that is highly tribal. As a progressive you need to decide what is more important to you - pushing equality project ahead or fighting tribal wars with non-believers. Right now, fighting tribal wars is all your side does. \\n\\nIn a more reasonable world \"a violent act of anti-Blackness, misogyny and misogynoir\" involves white robes and a burning cross. By applying this label to something mundane and trivial you are normalizing term\\'s triviality. You make it easier to shrug off such accusations as an overreaction by hysterical radicals.',\n",
       "       'A Liberal research firm that could only skew the results to 52%?  It just shows how out of touch our dim leader is on running massive deficits.',\n",
       "       'Maybe a new Mayor is a better option?',\n",
       "       \"What concerns me is that behind each Vogue photoshoot or Rolling Stone article are prime ministeral aids who believe orchestrating this type of media hype (it doesn't happen by accident) coverage is a higher priority than seeking solutions for the many Canadians who are struggling with housing, health care, debt, poverty, and unemployment. \\n\\nPrevious Prime Ministers (not limited to Stephen Harper) simply didn't have time for magazine phootshoots, staged photo ops, pretending to understand quantum physics, hugging pandas or introducing rock concerts because they were as busy as you would expect a responsible leader of an important nation to be.\",\n",
       "       'Just in case you missed it...\\n\\n“there should be no preferential access, or appearance of preferential access” in exchange for political donations\"\\n\\nTrudeau and his Liberals cannot be trusted.   He must resign.',\n",
       "       'Ridiculous. Obama did not start the Syrian civil war, which grew out of the Arab Spring. He didn\\'t start that either. The increase in Islamic terror is more likely linked to the disintegration of Iraq and the rise of Daesh, which happened because of Bush\\'s hare-brained invasion of Iraq. \\nThe Chinese and the Russians have their own agendas; U.S. economic performance is pretty much leading the G7 at the moment. Fear of \"Federal debt\" is a joke, a grim fairy tail told by right wingers to frighten their children. Perhaps you are hearing that here first. Look it up. \"Increased urban gang homicide\"? That\\'s a pretty exotic stat, perhaps you should pin the increase in pocket lint on Obama while you\\'re at it. \\nAll of which brings us to worsening income distribution and a falling labour force participation rate . Indeed, these are happening, but to turn those trends around, Obama would need to strangle global neoliberal capitalism. If you think it\\'s bad now, Trump \"policies\" will make it worse.',\n",
       "       'This idea - so trumpeted in the liberal left-wing media -  that there is a Muslim \"right\" to come to western countries is just not true.',\n",
       "       \"Where and how can I apply for this. I don't want to work anymore. The guaranty  income + Child care benefit +  free drug and glass prescription + subsidised housing would fit our family need. I can go to the gym subsidised by the city keep myself healthy, relax watch my favourite daily soap,  and checking my mailbox for new cheques. It 's a lot of stress but our family can handle it. My boys are now entitled to free university grants and tuition. It 's win win situation for all of people who don't want to go to work since there 's no incentive to wake up early in the morning on a cold winter day and go to work.\",\n",
       "       \"I think people are tired of hearing from the political class (whom I'll call elites here or those people that think they know better than the rest of us what is good for us.  This is different I think from smart people who have worked hard all their lives and are now wealthy.) how we need to spend money on this and that and the other thing all the while jacking up taxes and user fees to pay for all this stuff we are told we need to do.\\n\\nHow about we just make sure our hospitals have enough beds, our kids are well educated and our roads are paved?\",\n",
       "       \"Give me a break Margaret, lets call this for what it is. The taxpayers of this country are tired of being treated like a cow, where the government comes to milk it whenever it sees the need for more milk.  The real problem here is that the Liberals have a spending problem.  They need to deal with their insatiable greed for more revenue, and learn to spend less money, not more. Politics isn't that hard, listening seems to be very hard for the insatiably greedy Liberals.\",\n",
       "       \"If the government were truly concerned about fairness, they would amend the tax code to allow salaried employees to income split: as it stands now a single, high-earner household is unfairly penalized relative to a 2-earner household.\\n\\nFurther, the government does not have a revenue problem, it has a spending problem.  If we take their projections at face value - $3 Billion in additional taxes + $250 Million from eliminating 'sprinkling', it is barely 10% of the $30B deficits that they have created.\\n\\nTrudeau/Morneau inherited a balanced budget and a growing economy.  That whirring sound is Keynes spinning in his grave at the wastefulness in what are (for the moment) good economic times.  This is the time to run a surplus, invest & pay down debt.  Not dig a deeper hole for weary taxpayers.\",\n",
       "       'Exaggerations and lies, then turn the people against the media. That is the road to Fascism.',\n",
       "       'It\\'s not cheap sex Maggie, it\\'s expensive divorce that is scaring more and more men into avoiding marriage.   \\n\\nBeing married has never caused men (or women for that matter) to cease having sex with people other than their spouse.   But losing everything you\\'ve ever worked for?   That\\'s a different story.   In \"the good old days\" divorce was relatively rare.   Now it\\'s 50 50 and two thirds of all divorces are initiated by women.   So I ask you, if you were at a busy intersection looking to cross, but your odds were 1 in 2 of getting run over and killed, would you do it?',\n",
       "       '\" ..  This Great Shift Left will see the end of 10 years of austerity and .. \"\\n\\nThe G&M editorial board should be ashamed to publish this piece of blatant Liberal propaganda !!\\n\\nOntario\\'s DEBT is now >$300,000,000,000 ( I typed the whole number to make the Discovery Math generation understand ). The deficit mentioned in isolation is irrelevant.\\n\\nUnbelievable - but since the Teacher\\'s Union runs the place our brain washed students - become voters - will re-elect this crew of scandal ridden  incompetents a fourth time....',\n",
       "       \"Fox News, Breitbart and the GOP have been setting the stage for the past several months to characterize Mueller as a Democratic Party stooge doing the bidding of the Clinton cabal.  If Trump's base can believe that evolution and climate science are hoaxes, they can and will swallow any conspiracy theory that the right wing media feeds them.\",\n",
       "       \"Its approx. 270 miles from Chicago to Louisville. How easy would it have been to use a company vehicle to re-position the crew? This ugly incident doesn't say much for United's manpower deployment and planning.The lawsuit alone will be expensive enough, but the ill will of the travelling public will be far greater.\",\n",
       "       '\"You have to ask a question of me first – because you get a chance to talk to the Prime Minister,\"\\n\\nGood old humble Justin.  LOL.',\n",
       "       \"We have hate laws to deal with hate speech. Undermining free speech, on the other hand, is an affront to democracy itself. If objectionable speech doesn't meet the standard established to violate hate laws it must be permitted, as has to be the case in a free and open society. The reality is that the Western standard for free speech in large measure derives from the establishment of a right to criticize religion. This is the heritage bestowed by the Reformation and the Enlightenment.\",\n",
       "       'you nailed it.  the millions of Conservative women are too busy working to make ends meet',\n",
       "       \"Well at least  this author resides where the economy has been hit hard. America is all about protecting the rights of the individual not the collective. If your well off you, don't like Obamacare because you or your business has to contribute to the well being of those less fortunate. If your well off you can afford  to live in a gated community where you or your family don't have to deal with the less fortunate. And if you are well off you can benefit from the generous, often regressive personal tax system .\\nTrump said all the right things during the campaign but now it appears he's looking for a way to monetise his friends and family. Look at the majority of his nominations, most are billionaires who have little in common with the people they will serve. As a Canadian, this president is going to hurt our economy. Why people can't see the folly of Trump is disheartening.\",\n",
       "       'They should be tried for murder. \" My friend is gone.\"',\n",
       "       'Arar was completely innocent of treason.  Kadr was guilty of it.  Big difference.  All the difference in the world.',\n",
       "       \"Walker's personal integrity has this voter's respect. It ain't easy.\",\n",
       "       \"The natives got something to show for it. Bombardier management got something to show for it. Imported (and incompatible) Muslims got something to show for it. Women's groups in foreign countries got something to show for it. The Trudeau foundation got something to show for it - in fact they are magically more profitable then ever before for some reason.\\n\\nAverage (and silenced) Canadian got the bill. Priceless.\",\n",
       "       \"Tokuda has been one of extremely few people who have tried to hold HART accountable.  If she is ousted, I'm sure many more people will simply give up on local government.\",\n",
       "       \"You can now lose your job because of an (admittedly unsavoury) comment in a private conversation with peers.  In Communist China Mao taught the children to report their parents private comments to the authorities.  Same for Khmer Rouge in Cambodia, Stalin's Russia, Hitler's Germany, post-WWII East Germany, etc.  Liberal fascism has come to Canada.\",\n",
       "       \"The utter hypocrisy of the loony far right eh!  I mean seriously I found Trudeau's trip lacking in respect despite the Aga Khan being a friend of the family for decades......but can they find anything wrong with the Rona trip....nope not them!!   Straight from the Trump school of alternative truth's.\",\n",
       "       'They are not being charged for illegal entry into Canada, so yes, the RCMP are not doing their jobs.',\n",
       "       'the evolution of corrupt government\\n\\nLie\\nLiar\\nLiberal',\n",
       "       \"As a former long time consultant, I resent that remark.  In truth, a consultant will borrow your watch to tell you the time and then walk off with the watch.\\n\\nAs a typical Canadian senior, meaning that I patronize Tim Hortons at least twice a week, I have noticed a deterioration in the selection, appearance and quality of some Hortons ' pastries and baked goods in recent months.   I have also noticed that their Wi-Fi - which most Hortons proudly advertise right on their front door - increasingly is out of service.   And I know an owner of several Timmy franchises who has told me much of what is reported in the a/n column.\\n\\nIt won't take much more by way of product and service declines for me to go elsewhere and I suspect a lot of other Timmy's customers are feeling the same way.\\n\\nThis seems increasingly like a sad ending to what had been a uniquely Canadian success story.\\n\\nGlobal financiers who know the price of everything but the value of nothing often wreck great local enterprises.\",\n",
       "       'Me too',\n",
       "       'Bravo Sarah Kendzior, your words captured the essence of Trump’s shameful words and the struggle of Black Americans against racism and the violence perpetrated against them at the hands of police officers. Any progress made toward racial equality and justice stopped when Donald Trump won the Republican nomination for President. He, more than any other President, has sown racial division with hateful rhetoric and his reluctance to condemn white supremacists.',\n",
       "       'Okay, I didn\\'t read the entire essay.  I stopped about half way through when it became clear to me that her father raised her as a \"black person\" rather than as a \"person\", and imbued in her a racial tension that prevents her from \"fitting in\".\\n\\nOver the years, I have worked with people of many ethnic origins, all having the quality that they didn\\'t see themselves as of any particular ethnicity.  From the inside looking out, I can\\'t see myself, just as they couldn\\'t see themselves.  It was this attitude that made us compatible co-workers.  In fact, this essay had me to consciously recall my former co-workers, to recall what they even looked like to see if they fit the label of \"ethnically diverse\".\\n\\nI suggest that this author try to wind back the clock to the 4-year age and start over.  The way we act influences the way people react.',\n",
       "       \"BFD. I'm a veteran who also honorably served, and I've got a LOT more integrity than that dipstick.\",\n",
       "       \"Gary, great article - you nailed it!\\n\\nWynne, Sousa and Tory should all be ashamed of themselves. They've taken countless trips and spent a boat load of money pumping our houses as an attractive investment to the Chinese. It's not an investment!\\nOur real estate is being used by the foreigners to launder money and has turned the market into a casino.\\n\\n I and many that I know have witnessed first hand how the foreigners buy multi-million dollar homes via Skype and use local fake buyers for the paper work.\\nIt's absolute BS when the TREB & OREA tell the public that the foreigners buyers represent less than 5% of the buyers. Those of us that have homes may feel rich on paper but this corrupt activity is a sell out by our politicians and is hollowing out our way of life for future generations.\",\n",
       "       \"The frenzied Vancouver environmental movement doesn't care about the PMs climate plan and wouldn't care even if it were more ambitious than Harper's, which it scarcely is. Their intention is solely compliance with their ideology, one that sees Canada, with only 1.6℅ of annual world GHG emissions, as disproportionately responsible for anthropogenic climate change. Canada is simply an easy mark for these militants. The USA, with some 15 to 20℅ of world GHG production,   has built thousands of miles of pipeline, dramatically increased its O+G production, is shipping crude offshore and has even approved Utah's asphalt ridge heavy oil project. America however, is a much tougher opponent.\\n\\nTrudeau made the right choice. I hope he has the spine to stand up to  these activists.\",\n",
       "       'James was a BLM Cadastral Surveyor for over 30 years, he deserved a longer retirement, rest in peace my friend\\n\\nJohn Pex',\n",
       "       'They should spark anger with anybody who cares about the economy, jobs and thus the ability to sustain our social programs. The comments just show how immature and ideological his thinking is.',\n",
       "       '\"Do we really need a bitumen pipeline from Alberta to the Pacific, a massive dam on the Peace River, or to log the last old-growth trees?\"\\n\\nNo, not really.  We can simply double taxes in order to pay for education and health care.  Or we can allow waiting lines for surgery to grow even longer and we can double class sizes in school.  The choice is that simple.',\n",
       "       '“A classic that needs no rewrite”\\n------------------------------------------\\n\\nIndeed! I’ve been listening to “Baby It’s Cold Outside” for more than 60 years and never thought of it as anything other than a playful interaction between two mature (and consenting) adults. I don’t recall any outrage over the lyrics back in the age of sexual repression, so why the fuss now, in this era of women’s liberation?'],\n",
       "      dtype=object)"
      ]
     },
     "execution_count": 14,
     "metadata": {},
     "output_type": "execute_result"
    }
   ],
   "source": [
    "sample_df[sample_df.likes > 50].text.values"
   ]
  },
  {
   "cell_type": "code",
   "execution_count": 24,
   "metadata": {},
   "outputs": [
    {
     "data": {
      "text/plain": [
       "array([\"The fact is folks we need to generate revenue to close the budget gap. We have cut the budget and we can't go much lower without even more negative impacts on services.  Now its time to generate revenue and all Alaskans need to have some skin in the game and that means reduced dividend checks and an income or a sales tax. I am glad the legislators are willing to make some hard and unpopular choices for the benefit of our state as a whole.\",\n",
       "       \"Just look at Colorado's leftist leadership and their accomplishments, from useless magazine capacity limits, preventing the execution of a mass murderer, protecting foreign criminals, making the police department politically correct, and many others, all of those moves encouraged more crime, so why is this a surprise?\",\n",
       "       'My heart aches for his family. He sounded like an amazing son, brother, friend. Positive thoughts and healing prayers. May his Memory be Eternal',\n",
       "       ..., 'Ok I admit it. Trump has a secret weather machine.',\n",
       "       \"We could just talk about your racism now.  How's that.\",\n",
       "       \"Judges should be allowed to ask what ever they damn well want to ask. \\n\\nPeople's lives are on the line in court and it is no one else's business except those in the court room. \\n\\nStop trying to apply Feminism ideology to the courts and judges.\"],\n",
       "      dtype=object)"
      ]
     },
     "execution_count": 24,
     "metadata": {},
     "output_type": "execute_result"
    }
   ],
   "source": [
    "sample_df[sample_df.likes < 10].text.values"
   ]
  },
  {
   "cell_type": "code",
   "execution_count": 17,
   "metadata": {},
   "outputs": [],
   "source": [
    "text_length = []\n",
    "for i in sample_df.text.values:\n",
    "    text_length.append(len(i))"
   ]
  },
  {
   "cell_type": "code",
   "execution_count": 27,
   "metadata": {},
   "outputs": [],
   "source": [
    "# sample_df.to_csv('../sample_df.csv', index = False)"
   ]
  },
  {
   "cell_type": "code",
   "execution_count": 28,
   "metadata": {},
   "outputs": [],
   "source": [
    "# sample_df"
   ]
  },
  {
   "cell_type": "code",
   "execution_count": 37,
   "metadata": {},
   "outputs": [
    {
     "data": {
      "text/plain": [
       "34294"
      ]
     },
     "execution_count": 37,
     "metadata": {},
     "output_type": "execute_result"
    }
   ],
   "source": [
    "len(sample_df[sample_df.likes > 2].likes.values)"
   ]
  },
  {
   "cell_type": "code",
   "execution_count": 38,
   "metadata": {},
   "outputs": [
    {
     "data": {
      "text/plain": [
       "33593"
      ]
     },
     "execution_count": 38,
     "metadata": {},
     "output_type": "execute_result"
    }
   ],
   "source": [
    "len(sample_df[sample_df.likes < 2].likes.values)"
   ]
  },
  {
   "cell_type": "code",
   "execution_count": 40,
   "metadata": {},
   "outputs": [],
   "source": [
    "sample_df['liked'] = (sample_df.likes > 2)*1"
   ]
  },
  {
   "cell_type": "code",
   "execution_count": 46,
   "metadata": {},
   "outputs": [
    {
     "data": {
      "text/plain": [
       "173"
      ]
     },
     "execution_count": 46,
     "metadata": {},
     "output_type": "execute_result"
    }
   ],
   "source": [
    "sample_df.likes.max()"
   ]
  },
  {
   "cell_type": "code",
   "execution_count": null,
   "metadata": {},
   "outputs": [],
   "source": [
    "#weighting: to fix imbalance (SMOTE)\n",
    "#add back all zero ratings (DONE)\n",
    "#try predicting disagreement \n",
    "#reevaluate \"liked\" cutoff \n",
    "#explore ratios of likes "
   ]
  },
  {
   "cell_type": "code",
   "execution_count": 3,
   "metadata": {},
   "outputs": [],
   "source": [
    "df = pd.read_csv('../../../cleaned_comments.csv')"
   ]
  },
  {
   "cell_type": "code",
   "execution_count": 5,
   "metadata": {},
   "outputs": [],
   "source": [
    "text_length = []\n",
    "for i in df.text.values:\n",
    "    text_length.append(len(i))"
   ]
  },
  {
   "cell_type": "code",
   "execution_count": 53,
   "metadata": {},
   "outputs": [],
   "source": [
    "df['text_length'] = text_length"
   ]
  },
  {
   "cell_type": "code",
   "execution_count": 55,
   "metadata": {},
   "outputs": [],
   "source": [
    "rej_df = df[df.rating == 0]\n",
    "app_df = df[df.rating == 1]"
   ]
  },
  {
   "cell_type": "code",
   "execution_count": 59,
   "metadata": {},
   "outputs": [],
   "source": [
    "import seaborn as sns"
   ]
  },
  {
   "cell_type": "code",
   "execution_count": 56,
   "metadata": {},
   "outputs": [
    {
     "data": {
      "text/plain": [
       "{'whiskers': [<matplotlib.lines.Line2D at 0x7f993ce28d90>,\n",
       "  <matplotlib.lines.Line2D at 0x7f993ce1a1d0>],\n",
       " 'caps': [<matplotlib.lines.Line2D at 0x7f993ce2f7d0>,\n",
       "  <matplotlib.lines.Line2D at 0x7f993ce2fcd0>],\n",
       " 'boxes': [<matplotlib.lines.Line2D at 0x7f993ce1a210>],\n",
       " 'medians': [<matplotlib.lines.Line2D at 0x7f993ce2f6d0>],\n",
       " 'fliers': [<matplotlib.lines.Line2D at 0x7f993ce39710>],\n",
       " 'means': []}"
      ]
     },
     "execution_count": 56,
     "metadata": {},
     "output_type": "execute_result"
    },
    {
     "data": {
      "image/png": "[encoded data removed]",
      "text/plain": [
       "<Figure size 432x288 with 1 Axes>"
      ]
     },
     "metadata": {
      "needs_background": "light"
     },
     "output_type": "display_data"
    }
   ],
   "source": [
    "sns.violinplot(x = text_length)\n",
    "\n",
    "# boxplot(rej_df.text_length)\n",
    "# plt.boxplot(app_df.text_length)"
   ]
  },
  {
   "cell_type": "code",
   "execution_count": null,
   "metadata": {},
   "outputs": [],
   "source": []
  },
  {
   "cell_type": "code",
   "execution_count": null,
   "metadata": {},
   "outputs": [],
   "source": []
  },
  {
   "cell_type": "code",
   "execution_count": null,
   "metadata": {},
   "outputs": [],
   "source": []
  }
 ],
 "metadata": {
  "kernelspec": {
   "display_name": "Python 3",
   "language": "python",
   "name": "python3"
  },
  "language_info": {
   "codemirror_mode": {
    "name": "ipython",
    "version": 3
   },
   "file_extension": ".py",
   "mimetype": "text/x-python",
   "name": "python",
   "nbconvert_exporter": "python",
   "pygments_lexer": "ipython3",
   "version": "3.7.6"
  }
 },
 "nbformat": 4,
 "nbformat_minor": 4
}
