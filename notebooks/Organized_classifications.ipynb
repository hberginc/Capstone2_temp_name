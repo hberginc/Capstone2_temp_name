{
 "cells": [
  {
   "cell_type": "code",
   "execution_count": 51,
   "metadata": {},
   "outputs": [],
   "source": [
    "import pandas as pd \n",
    "import numpy as np\n",
    "import matplotlib.pyplot as plt\n",
    "import statsmodels.api as sm\n",
    "from sklearn.metrics import plot_roc_curve\n",
    "\n",
    "import nltk\n",
    "from nltk.tokenize import word_tokenize, sent_tokenize\n",
    "from nltk.corpus import stopwords\n",
    "from nltk.stem.porter import PorterStemmer\n",
    "from nltk.stem.snowball import SnowballStemmer\n",
    "from nltk.stem.wordnet import WordNetLemmatizer\n",
    "from sklearn.feature_extraction.text import CountVectorizer, TfidfVectorizer, TfidfTransformer\n",
    "from sklearn.pipeline import Pipeline\n",
    "\n",
    "from sklearn.metrics.pairwise import linear_kernel\n",
    "from sklearn.decomposition import NMF, PCA\n",
    "\n",
    "from sklearn.model_selection import train_test_split\n",
    "from sklearn.model_selection import StratifiedKFold\n",
    "from sklearn.model_selection import cross_val_score\n",
    "from sklearn.metrics import (confusion_matrix, precision_score, \n",
    "                                    recall_score, accuracy_score, r2_score, \n",
    "                                    plot_confusion_matrix, auc, roc_curve, roc_auc_score)\n",
    "\n",
    "from sklearn.ensemble import RandomForestRegressor, RandomForestClassifier\n",
    "from sklearn.metrics import r2_score, plot_confusion_matrix\n",
    "from sklearn.cluster import DBSCAN\n",
    "\n",
    "from sklearn import (\n",
    "    cluster, decomposition, ensemble, manifold, \n",
    "    random_projection, preprocessing)\n",
    "from sklearn.utils.class_weight import compute_class_weight\n",
    "\n",
    "from sklearn.linear_model import LogisticRegression\n",
    "from sklearn.tree import DecisionTreeClassifier\n",
    "from sklearn.naive_bayes import MultinomialNB, BernoulliNB, ComplementNB\n",
    "\n",
    "# from sklearn.neighbors import KNeighborsRegressor\n",
    "\n",
    "from wordcloud import WordCloud, STOPWORDS, ImageColorGenerator\n",
    "import pickle\n",
    "from sklearn.ensemble import GradientBoostingClassifier\n",
    "from sklearn.model_selection import GridSearchCV\n",
    "import random"
   ]
  },
  {
   "cell_type": "markdown",
   "metadata": {},
   "source": [
    "# ALL DONE WITH UNDERSAMPLING"
   ]
  },
  {
   "cell_type": "code",
   "execution_count": 2,
   "metadata": {},
   "outputs": [],
   "source": [
    "df = pd.read_csv('../../../cleaned_comments.csv')"
   ]
  },
  {
   "cell_type": "code",
   "execution_count": 3,
   "metadata": {},
   "outputs": [
    {
     "data": {
      "text/plain": [
       "0.06000002214451956"
      ]
     },
     "execution_count": 3,
     "metadata": {},
     "output_type": "execute_result"
    }
   ],
   "source": [
    "X_train, X_test, y_train, y_test = train_test_split(df.text, df.rating, stratify = df.rating, test_size=0.06)\n",
    "y_train.value_counts()\n",
    "#Rejected values utilize only 7 percent of the overall available data\n",
    "\n",
    "len(y_test)/(len(y_test)+len(y_train))"
   ]
  },
  {
   "cell_type": "code",
   "execution_count": 4,
   "metadata": {},
   "outputs": [
    {
     "data": {
      "text/plain": [
       "(1    1584507\n",
       " Name: rating, dtype: int64,\n",
       " 0    113430\n",
       " Name: rating, dtype: int64)"
      ]
     },
     "execution_count": 4,
     "metadata": {},
     "output_type": "execute_result"
    }
   ],
   "source": [
    "train_df = pd.concat([X_train, y_train], axis = 1)\n",
    "ap_df = train_df[train_df.rating ==1]\n",
    "rej_df = train_df[train_df.rating == 0]\n",
    "#check your work\n",
    "ap_df.rating.value_counts(), rej_df.rating.value_counts()"
   ]
  },
  {
   "cell_type": "code",
   "execution_count": 6,
   "metadata": {},
   "outputs": [],
   "source": [
    "#try to undersampling the majority class?\n",
    "min_val = rej_df.rating.value_counts()[0]\n",
    "r = np.random.RandomState(42)\n",
    "inds = np.arange(min_val)\n",
    "r.shuffle(inds)\n",
    "rej_df1=rej_df.iloc[inds]\n",
    "ap_df1=ap_df.iloc[inds]\n",
    "#put indices in a random order for selection\n",
    "fixed_train_df = pd.concat([rej_df1, ap_df1], axis = 0)"
   ]
  },
  {
   "cell_type": "code",
   "execution_count": 7,
   "metadata": {},
   "outputs": [],
   "source": [
    "shuffled_df = fixed_train_df.sample(frac=1)"
   ]
  },
  {
   "cell_type": "code",
   "execution_count": 8,
   "metadata": {},
   "outputs": [
    {
     "data": {
      "text/plain": [
       "1    113430\n",
       "0    113430\n",
       "Name: rating, dtype: int64"
      ]
     },
     "execution_count": 8,
     "metadata": {},
     "output_type": "execute_result"
    }
   ],
   "source": [
    "X_train = shuffled_df.text.values\n",
    "y_train = shuffled_df.rating.values\n",
    "shuffled_df.rating.value_counts()"
   ]
  },
  {
   "cell_type": "code",
   "execution_count": 13,
   "metadata": {},
   "outputs": [
    {
     "name": "stdout",
     "output_type": "stream",
     "text": [
      "testing size = 0.3232887581695447\n"
     ]
    }
   ],
   "source": [
    "print(f'testing size = {len(y_test)/(len(y_train)+len(y_test))}')"
   ]
  },
  {
   "cell_type": "code",
   "execution_count": null,
   "metadata": {},
   "outputs": [],
   "source": []
  },
  {
   "cell_type": "markdown",
   "metadata": {},
   "source": [
    "# Original TFDIF with Random Forest"
   ]
  },
  {
   "cell_type": "code",
   "execution_count": 73,
   "metadata": {},
   "outputs": [
    {
     "data": {
      "text/plain": [
       "RandomForestClassifier(class_weight='balanced', max_depth=4, max_features=500,\n",
       "                       n_estimators=500, n_jobs=-1, random_state=1)"
      ]
     },
     "execution_count": 73,
     "metadata": {},
     "output_type": "execute_result"
    }
   ],
   "source": [
    "vectorizer = TfidfVectorizer(max_features=1000, stop_words='english', analyzer='word', strip_accents='ascii',sublinear_tf = True)\n",
    "x_train_vect = vectorizer.fit_transform(X_train)\n",
    "x_test_vect = vectorizer.transform(X_test.values)\n",
    "\n",
    "\n",
    "model = RandomForestClassifier(n_jobs=-1, \n",
    "                               random_state  = 1,\n",
    "                               max_depth = 4, \n",
    "                               n_estimators=500, \n",
    "                              max_features = 500, \n",
    "                              min_samples_split = 2,\n",
    "                              bootstrap = True,\n",
    "                              min_samples_leaf = 1, class_weight = 'balanced')\n",
    "model.fit(x_train_vect, y_train)\n",
    "\n",
    "# max_depth            | 4        | [3, 2, 4]\n",
    "# min_samples_split    | 2        | [2, 4]\n",
    "# min_samples_leaf     | 1        | [1, 2, 4]\n",
    "# bootstrap            | True     | [True, False]"
   ]
  },
  {
   "cell_type": "code",
   "execution_count": 74,
   "metadata": {},
   "outputs": [
    {
     "data": {
      "text/plain": [
       "(0.8959023427047675, 0.9398932785039409, 0.9491491907177251)"
      ]
     },
     "execution_count": 74,
     "metadata": {},
     "output_type": "execute_result"
    }
   ],
   "source": [
    "orf_y_pred = model.predict(x_test_vect)\n",
    "\n",
    "accuracy_score(y_test, orf_y_pred ), \\\n",
    "    precision_score(y_test, orf_y_pred ), \\\n",
    "           recall_score(y_test, orf_y_pred )"
   ]
  },
  {
   "cell_type": "code",
   "execution_count": null,
   "metadata": {},
   "outputs": [],
   "source": []
  },
  {
   "cell_type": "markdown",
   "metadata": {},
   "source": [
    "## Original TFDIF with ComplementNB"
   ]
  },
  {
   "cell_type": "code",
   "execution_count": 66,
   "metadata": {},
   "outputs": [
    {
     "data": {
      "text/plain": [
       "(0.6511870380793328, 0.9629142364308789, 0.6513016739338929)"
      ]
     },
     "execution_count": 66,
     "metadata": {},
     "output_type": "execute_result"
    }
   ],
   "source": [
    "cnb = ComplementNB()\n",
    "cnb.fit(x_train_vect, y_train)\n",
    "# filename = 'balanced_cnb_model.sav'\n",
    "# pickle.dump(nb, open(filename, 'wb'))\n",
    "\n",
    "\n",
    "ocnb_y_pred = cnb.predict(x_test_vect)\n",
    "\n",
    "accuracy_score(y_test, ocnb_y_pred), \\\n",
    "    precision_score(y_test, ocnb_y_pred), \\\n",
    "           recall_score(y_test, ocnb_y_pred)"
   ]
  },
  {
   "cell_type": "code",
   "execution_count": null,
   "metadata": {},
   "outputs": [],
   "source": []
  },
  {
   "cell_type": "code",
   "execution_count": null,
   "metadata": {},
   "outputs": [],
   "source": []
  },
  {
   "cell_type": "markdown",
   "metadata": {},
   "source": [
    "# Optimized TFDIF for Random Forest"
   ]
  },
  {
   "cell_type": "code",
   "execution_count": 109,
   "metadata": {},
   "outputs": [
    {
     "data": {
      "text/plain": [
       "RandomForestClassifier(max_depth=4, max_features=500, n_estimators=500,\n",
       "                       n_jobs=-1, random_state=1)"
      ]
     },
     "execution_count": 109,
     "metadata": {},
     "output_type": "execute_result"
    }
   ],
   "source": [
    "new_vectorizer = TfidfVectorizer(analyzer='word', binary=False, decode_error='strict', encoding='utf-8',\n",
    "                    input='content', lowercase=True, max_df=0.25, max_features=None,\n",
    "                    min_df=1, ngram_range=(1, 1), norm='l2', preprocessor=None,\n",
    "                    smooth_idf=True, stop_words='english', strip_accents=None,\n",
    "                    sublinear_tf=False, token_pattern='(?u)\\\\b\\\\w\\\\w+\\\\b',\n",
    "                    tokenizer=None, use_idf=True, vocabulary=None)\n",
    "\n",
    "x_train_nvect = new_vectorizer.fit_transform(X_train)\n",
    "x_test_nvect = new_vectorizer.transform(X_test.values)\n",
    "\n",
    "\n",
    "\n",
    "rf = RandomForestClassifier(n_jobs=-1, \n",
    "                               random_state  = 1,\n",
    "                               max_depth = 4, \n",
    "                               n_estimators=500, \n",
    "                              max_features = 500, \n",
    "                              min_samples_split = 2,\n",
    "                              bootstrap = True,\n",
    "                              min_samples_leaf = 1)\n",
    "                                \n",
    "rf.fit(x_train_nvect, y_train)\n",
    "\n",
    "# max_depth            | 4        | [3, 2, 4]\n",
    "# min_samples_split    | 2        | [2, 4]\n",
    "# min_samples_leaf     | 1        | [1, 2, 4]\n",
    "# bootstrap            | True     | [True, False]"
   ]
  },
  {
   "cell_type": "code",
   "execution_count": 110,
   "metadata": {},
   "outputs": [
    {
     "data": {
      "text/plain": [
       "(0.5573219904224989, 0.9642482883889898, 0.5458725120873253)"
      ]
     },
     "execution_count": 110,
     "metadata": {},
     "output_type": "execute_result"
    }
   ],
   "source": [
    "nrfy_pred = rf.predict(x_test_nvect)\n",
    "\n",
    "accuracy_score(y_test, nrfy_pred), \\\n",
    "    precision_score(y_test, nrfy_pred), \\\n",
    "           recall_score(y_test, nrfy_pred)"
   ]
  },
  {
   "cell_type": "code",
   "execution_count": null,
   "metadata": {},
   "outputs": [],
   "source": []
  },
  {
   "cell_type": "code",
   "execution_count": null,
   "metadata": {},
   "outputs": [],
   "source": []
  },
  {
   "cell_type": "markdown",
   "metadata": {},
   "source": [
    "# Optimized TFDIF for Complement Naive Bayes"
   ]
  },
  {
   "cell_type": "code",
   "execution_count": 68,
   "metadata": {},
   "outputs": [
    {
     "data": {
      "text/plain": [
       "(0.7189584698142629, 0.9704222352377403, 0.7208099743916788)"
      ]
     },
     "execution_count": 68,
     "metadata": {},
     "output_type": "execute_result"
    }
   ],
   "source": [
    "new_vectorizer = TfidfVectorizer(analyzer='word', binary=False, decode_error='strict',\n",
    "                encoding='utf-8',\n",
    "                input='content', lowercase=True, max_df=0.25, max_features=None,\n",
    "                min_df=1, ngram_range=(1, 1), norm='l2', preprocessor=None,\n",
    "                smooth_idf=True, stop_words='english', strip_accents=None,\n",
    "                sublinear_tf=False, token_pattern='(?u)\\\\b\\\\w\\\\w+\\\\b',\n",
    "                tokenizer=None, use_idf=True, vocabulary=None)\n",
    "\n",
    "\n",
    "x_train_nvect = new_vectorizer.fit_transform(X_train)\n",
    "x_test_nvect = new_vectorizer.transform(X_test.values)\n",
    "\n",
    "\n",
    "new_cnb = ComplementNB()\n",
    "new_cnb.fit(x_train_nvect, y_train)\n",
    "# filename = 'balanced_cnb_model.sav'\n",
    "# pickle.dump(nb, open(filename, 'wb'))\n",
    "\n",
    "\n",
    "ncnby_pred = new_cnb.predict(x_test_nvect)\n",
    "\n",
    "accuracy_score(y_test, ncnby_pred), \\\n",
    "    precision_score(y_test, ncnby_pred), \\\n",
    "           recall_score(y_test, ncnby_pred)"
   ]
  },
  {
   "cell_type": "code",
   "execution_count": null,
   "metadata": {},
   "outputs": [],
   "source": []
  },
  {
   "cell_type": "code",
   "execution_count": null,
   "metadata": {},
   "outputs": [],
   "source": [
    " "
   ]
  },
  {
   "cell_type": "code",
   "execution_count": null,
   "metadata": {},
   "outputs": [],
   "source": []
  },
  {
   "cell_type": "code",
   "execution_count": null,
   "metadata": {},
   "outputs": [],
   "source": []
  },
  {
   "cell_type": "code",
   "execution_count": null,
   "metadata": {},
   "outputs": [],
   "source": []
  },
  {
   "cell_type": "code",
   "execution_count": null,
   "metadata": {},
   "outputs": [],
   "source": []
  },
  {
   "cell_type": "code",
   "execution_count": null,
   "metadata": {},
   "outputs": [],
   "source": []
  },
  {
   "cell_type": "markdown",
   "metadata": {},
   "source": [
    "## PLOT Confusion Matrices"
   ]
  },
  {
   "cell_type": "code",
   "execution_count": 105,
   "metadata": {},
   "outputs": [
    {
     "data": {
      "image/png": "[encoded data removed]",
      "text/plain": [
       "<Figure size 720x720 with 8 Axes>"
      ]
     },
     "metadata": {
      "needs_background": "light"
     },
     "output_type": "display_data"
    }
   ],
   "source": [
    "fig, axs = plt.subplots(2,2, figsize = (10,10))\n",
    "ax = axs.flatten()\n",
    "plot_confusion_matrix(model,x_test_vect, y_test, cmap = plt.cm.Blues, ax = ax[0])\n",
    "ax[0].set_title('Random Forest Original Vectorizer')\n",
    "plot_confusion_matrix(cnb,x_test_vect, y_test, cmap = plt.cm.Blues, ax = ax[1])\n",
    "ax[1].set_title('Complement NB Original Vectorizer')\n",
    "\n",
    "plot_confusion_matrix(new_cnb,x_test_nvect, y_test, cmap = plt.cm.Blues, ax = ax[2])\n",
    "ax[2].set_title('Comlement NB NB optimum Vectorizer')\n",
    "plot_confusion_matrix(rf,x_test_nvect, y_test, cmap = plt.cm.Blues, ax = ax[3])\n",
    "ax[3].set_title('Random Forest NB optimum Vectorizer')\n",
    "# plt.savefig('../images/nb_optimum_conmtx.png')\n",
    "plt.show();\n"
   ]
  },
  {
   "cell_type": "code",
   "execution_count": null,
   "metadata": {},
   "outputs": [],
   "source": []
  },
  {
   "cell_type": "code",
   "execution_count": null,
   "metadata": {},
   "outputs": [],
   "source": []
  },
  {
   "cell_type": "markdown",
   "metadata": {},
   "source": [
    "# PLOT ROC CURVES"
   ]
  },
  {
   "cell_type": "code",
   "execution_count": 76,
   "metadata": {},
   "outputs": [
    {
     "data": {
      "image/png": "[encoded data removed]",
      "text/plain": [
       "<Figure size 576x432 with 1 Axes>"
      ]
     },
     "metadata": {
      "needs_background": "light"
     },
     "output_type": "display_data"
    }
   ],
   "source": [
    "fig, ax = plt.subplots(1, figsize = (8,6))\n",
    "plot_roc_curve(new_cnb, x_test_nvect, y_test, ax = ax, \\\n",
    "               label = f'CNB New Vectorizer (AUC {0.78})')\n",
    "\n",
    "\n",
    "plot_roc_curve(cnb, x_test_vect, y_test, ax = ax, \\\n",
    "               label = f'CNB Original Vectorizer (AUC {0.71}')\n",
    "\n",
    "plot_roc_curve(rf, x_test_nvect, y_test, ax = ax, \\\n",
    "               label = f'Random Forest New Vectorizer (AUC {0.70})')\n",
    "\n",
    "\n",
    "plot_roc_curve(model, x_test_vect, y_test, ax = ax, \\\n",
    "               label = f'Random Forest Original Vectorizer: AUC:{0.59}')\n",
    "\n",
    "\n",
    "ax.plot([0, 1], [0, 1], linestyle='--', lw=2, color='r', label='Chance', alpha=.8)\n",
    "plt.legend()\n",
    "plt.title('Multi-Model: ROC Curve')\n",
    "# plt.savefig('')\n",
    "plt.show()"
   ]
  },
  {
   "cell_type": "code",
   "execution_count": null,
   "metadata": {},
   "outputs": [],
   "source": []
  },
  {
   "cell_type": "markdown",
   "metadata": {},
   "source": [
    "## PLOT APR IMPROVMENT"
   ]
  },
  {
   "cell_type": "code",
   "execution_count": null,
   "metadata": {},
   "outputs": [],
   "source": [
    "#Random Forest Improvment\n",
    "labels = ['Basic Parameters', 'class weight = balanced', 'Undersampling majority class', 'Grid search', 'Using full dataset']\n",
    "accuracies = [0.48, 0.53, 0.83, 0.89, 0.89]\n",
    "Precision = [0.95,0.95,0.94,0.93,0.93]\n",
    "Recall = [0.47, 0.52, 0.86, 0.94, 0.95]\n",
    "\n",
    "plt.style.use('ggplot')\n",
    "plt.plot(labels,Precision, label = 'Precision')\n",
    "plt.plot(labels,Recall, label = 'Recall')\n",
    "plt.plot(labels,accuracies, label = 'Accuracy')\n",
    "plt.xticks(rotation=30, ha = 'right')\n",
    "plt.title('Score Improvments')\n",
    "plt.ylabel('Scores')\n",
    "plt.legend(prop={'size': 12})\n",
    "plt.tight_layout()\n",
    "# plt.savefig('../images/Score_improve.png')\n",
    "plt.show();"
   ]
  }
 ],
 "metadata": {
  "kernelspec": {
   "display_name": "Python 3",
   "language": "python",
   "name": "python3"
  },
  "language_info": {
   "codemirror_mode": {
    "name": "ipython",
    "version": 3
   },
   "file_extension": ".py",
   "mimetype": "text/x-python",
   "name": "python",
   "nbconvert_exporter": "python",
   "pygments_lexer": "ipython3",
   "version": "3.7.6"
  }
 },
 "nbformat": 4,
 "nbformat_minor": 4
}
